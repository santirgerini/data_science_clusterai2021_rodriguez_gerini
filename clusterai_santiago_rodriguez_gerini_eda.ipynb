{
  "nbformat": 4,
  "nbformat_minor": 0,
  "metadata": {
    "colab": {
      "name": "clusterai_santiago_rodriguez_gerini_eda.ipynb",
      "provenance": [],
      "collapsed_sections": [],
      "include_colab_link": true
    },
    "kernelspec": {
      "name": "python3",
      "display_name": "Python 3"
    },
    "language_info": {
      "name": "python"
    }
  },
  "cells": [
    {
      "cell_type": "markdown",
      "metadata": {
        "id": "view-in-github",
        "colab_type": "text"
      },
      "source": [
        "<a href=\"https://colab.research.google.com/github/santirgerini/data_science_clusterai2021_rodriguez_gerini/blob/main/clusterai_santiago_rodriguez_gerini_eda.ipynb\" target=\"_parent\"><img src=\"https://colab.research.google.com/assets/colab-badge.svg\" alt=\"Open In Colab\"/></a>"
      ]
    },
    {
      "cell_type": "markdown",
      "metadata": {
        "id": "xcltOA9j8Vnr"
      },
      "source": [
        "# Librerías y Drive"
      ]
    },
    {
      "cell_type": "code",
      "metadata": {
        "id": "28H2tm5G7BXs"
      },
      "source": [
        "#Importar paquetes de herramientas:\n",
        "#Datos\n",
        "import pandas as pd\n",
        "import numpy as np\n",
        "#Graficos \n",
        "import matplotlib.pyplot as plt\n",
        "import seaborn as sns\n",
        "#Otros \n",
        "import warnings\n",
        "import sklearn.neighbors\n",
        "warnings.filterwarnings('ignore')"
      ],
      "execution_count": null,
      "outputs": []
    },
    {
      "cell_type": "code",
      "metadata": {
        "colab": {
          "base_uri": "https://localhost:8080/"
        },
        "id": "YKUDZ-HIZmHi",
        "outputId": "c9251457-e470-45ec-8b4c-2d5c3b775579"
      },
      "source": [
        "sns.get_dataset_names()"
      ],
      "execution_count": null,
      "outputs": [
        {
          "output_type": "execute_result",
          "data": {
            "text/plain": [
              "['anagrams',\n",
              " 'anscombe',\n",
              " 'attention',\n",
              " 'brain_networks',\n",
              " 'car_crashes',\n",
              " 'diamonds',\n",
              " 'dots',\n",
              " 'exercise',\n",
              " 'flights',\n",
              " 'fmri',\n",
              " 'gammas',\n",
              " 'geyser',\n",
              " 'iris',\n",
              " 'mpg',\n",
              " 'penguins',\n",
              " 'planets',\n",
              " 'taxis',\n",
              " 'tips',\n",
              " 'titanic']"
            ]
          },
          "metadata": {},
          "execution_count": 188
        }
      ]
    },
    {
      "cell_type": "code",
      "metadata": {
        "id": "QVkMR76S7cDY",
        "colab": {
          "base_uri": "https://localhost:8080/"
        },
        "outputId": "a3b28801-c63d-4fef-eaca-6b82f6a567c7"
      },
      "source": [
        "from google.colab import drive\n",
        "drive.mount('/content/gdrive',force_remount=True)"
      ],
      "execution_count": null,
      "outputs": [
        {
          "output_type": "stream",
          "name": "stdout",
          "text": [
            "Mounted at /content/gdrive\n"
          ]
        }
      ]
    },
    {
      "cell_type": "code",
      "metadata": {
        "id": "zhScrVay7fOH"
      },
      "source": [
        "root_path = \"/content/gdrive/MyDrive/Ciencia de Datos - Grupo 6/\"\n",
        "plot_path = root_path + \"Graficos/\" "
      ],
      "execution_count": null,
      "outputs": []
    },
    {
      "cell_type": "markdown",
      "metadata": {
        "id": "ExWAdURKI-lF"
      },
      "source": [
        "# Importar Dataset"
      ]
    },
    {
      "cell_type": "code",
      "metadata": {
        "id": "7XEgpxvfJF7W"
      },
      "source": [
        "df = pd.read_csv(root_path + \"202109_informe_ministerio.csv\",index_col=False,error_bad_lines=False, delimiter=';')"
      ],
      "execution_count": null,
      "outputs": []
    },
    {
      "cell_type": "code",
      "metadata": {
        "id": "wSGbjR8IJGHE",
        "colab": {
          "base_uri": "https://localhost:8080/",
          "height": 380
        },
        "outputId": "a30962e0-ac2d-44ab-fe0f-1833cf84085c"
      },
      "source": [
        "filas = np.shape(df)[0] # [0] para la primera dimension\n",
        "print(f'Filas: {filas}')\n",
        "\n",
        "columnas = np.shape(df)[1] # [1] para la segunda dimension\n",
        "print(f'Columnas: {columnas}\\r\\n')\n",
        "\n",
        "print('Output de \".head(5)\": ')\n",
        "df.head(5)"
      ],
      "execution_count": null,
      "outputs": [
        {
          "output_type": "stream",
          "name": "stdout",
          "text": [
            "Filas: 219803\n",
            "Columnas: 11\r\n",
            "\n",
            "Output de \".head(5)\": \n"
          ]
        },
        {
          "output_type": "execute_result",
          "data": {
            "text/html": [
              "<div>\n",
              "<style scoped>\n",
              "    .dataframe tbody tr th:only-of-type {\n",
              "        vertical-align: middle;\n",
              "    }\n",
              "\n",
              "    .dataframe tbody tr th {\n",
              "        vertical-align: top;\n",
              "    }\n",
              "\n",
              "    .dataframe thead th {\n",
              "        text-align: right;\n",
              "    }\n",
              "</style>\n",
              "<table border=\"1\" class=\"dataframe\">\n",
              "  <thead>\n",
              "    <tr style=\"text-align: right;\">\n",
              "      <th></th>\n",
              "      <th>Fecha</th>\n",
              "      <th>Hora UTC</th>\n",
              "      <th>Clase de Vuelo (todos los vuelos)</th>\n",
              "      <th>Clasificación Vuelo</th>\n",
              "      <th>Tipo de Movimiento</th>\n",
              "      <th>Aeropuerto</th>\n",
              "      <th>Origen / Destino</th>\n",
              "      <th>Aerolinea Nombre</th>\n",
              "      <th>Aeronave</th>\n",
              "      <th>Pasajeros</th>\n",
              "      <th>Calidad dato</th>\n",
              "    </tr>\n",
              "  </thead>\n",
              "  <tbody>\n",
              "    <tr>\n",
              "      <th>0</th>\n",
              "      <td>01/01/2021</td>\n",
              "      <td>00:02</td>\n",
              "      <td>Vuelo Privado con Matrícula Nacional</td>\n",
              "      <td>Dom</td>\n",
              "      <td>Despegue</td>\n",
              "      <td>PAR</td>\n",
              "      <td>ROS</td>\n",
              "      <td>0</td>\n",
              "      <td>PA-PA-28-181</td>\n",
              "      <td>0</td>\n",
              "      <td>DEFINITIVO</td>\n",
              "    </tr>\n",
              "    <tr>\n",
              "      <th>1</th>\n",
              "      <td>01/01/2021</td>\n",
              "      <td>00:24</td>\n",
              "      <td>Regular</td>\n",
              "      <td>Dom</td>\n",
              "      <td>Aterrizaje</td>\n",
              "      <td>EZE</td>\n",
              "      <td>GRA</td>\n",
              "      <td>AEROLINEAS ARGENTINAS SA</td>\n",
              "      <td>BO-B737-8MB</td>\n",
              "      <td>70</td>\n",
              "      <td>DEFINITIVO</td>\n",
              "    </tr>\n",
              "    <tr>\n",
              "      <th>2</th>\n",
              "      <td>01/01/2021</td>\n",
              "      <td>00:26</td>\n",
              "      <td>Regular</td>\n",
              "      <td>Dom</td>\n",
              "      <td>Aterrizaje</td>\n",
              "      <td>EZE</td>\n",
              "      <td>ECA</td>\n",
              "      <td>AEROLINEAS ARGENTINAS SA</td>\n",
              "      <td>BO-737-800</td>\n",
              "      <td>70</td>\n",
              "      <td>DEFINITIVO</td>\n",
              "    </tr>\n",
              "    <tr>\n",
              "      <th>3</th>\n",
              "      <td>01/01/2021</td>\n",
              "      <td>00:29</td>\n",
              "      <td>Regular</td>\n",
              "      <td>Dom</td>\n",
              "      <td>Aterrizaje</td>\n",
              "      <td>EZE</td>\n",
              "      <td>SAL</td>\n",
              "      <td>AEROLINEAS ARGENTINAS SA</td>\n",
              "      <td>BO-B-737-76N</td>\n",
              "      <td>12</td>\n",
              "      <td>DEFINITIVO</td>\n",
              "    </tr>\n",
              "    <tr>\n",
              "      <th>4</th>\n",
              "      <td>01/01/2021</td>\n",
              "      <td>00:37</td>\n",
              "      <td>Regular</td>\n",
              "      <td>Dom</td>\n",
              "      <td>Aterrizaje</td>\n",
              "      <td>EZE</td>\n",
              "      <td>TUC</td>\n",
              "      <td>AEROLINEAS ARGENTINAS SA</td>\n",
              "      <td>EMB-ERJ190100IGW</td>\n",
              "      <td>26</td>\n",
              "      <td>DEFINITIVO</td>\n",
              "    </tr>\n",
              "  </tbody>\n",
              "</table>\n",
              "</div>"
            ],
            "text/plain": [
              "        Fecha Hora UTC  ... Pasajeros Calidad dato\n",
              "0  01/01/2021    00:02  ...         0   DEFINITIVO\n",
              "1  01/01/2021    00:24  ...        70   DEFINITIVO\n",
              "2  01/01/2021    00:26  ...        70   DEFINITIVO\n",
              "3  01/01/2021    00:29  ...        12   DEFINITIVO\n",
              "4  01/01/2021    00:37  ...        26   DEFINITIVO\n",
              "\n",
              "[5 rows x 11 columns]"
            ]
          },
          "metadata": {},
          "execution_count": 192
        }
      ]
    },
    {
      "cell_type": "code",
      "metadata": {
        "id": "z8hohZmOcBi9",
        "colab": {
          "base_uri": "https://localhost:8080/"
        },
        "outputId": "23eea870-8471-48af-dd67-f020f33463c0"
      },
      "source": [
        "nombre_columnas1 = df.columns.values\n",
        "nombre_columnas1"
      ],
      "execution_count": null,
      "outputs": [
        {
          "output_type": "execute_result",
          "data": {
            "text/plain": [
              "array(['Fecha', 'Hora UTC', 'Clase de Vuelo (todos los vuelos)',\n",
              "       'Clasificación Vuelo', 'Tipo de Movimiento', 'Aeropuerto',\n",
              "       'Origen / Destino', 'Aerolinea Nombre', 'Aeronave', 'Pasajeros',\n",
              "       'Calidad dato'], dtype=object)"
            ]
          },
          "metadata": {},
          "execution_count": 193
        }
      ]
    },
    {
      "cell_type": "markdown",
      "metadata": {
        "id": "gVRssMOdbt5G"
      },
      "source": [
        "# Limpieza DF"
      ]
    },
    {
      "cell_type": "code",
      "metadata": {
        "id": "xPnWWVnq66jr",
        "colab": {
          "base_uri": "https://localhost:8080/"
        },
        "outputId": "d1e14e26-c5e7-4867-a791-257747698e6c"
      },
      "source": [
        "np.shape(df)"
      ],
      "execution_count": null,
      "outputs": [
        {
          "output_type": "execute_result",
          "data": {
            "text/plain": [
              "(219803, 11)"
            ]
          },
          "metadata": {},
          "execution_count": 194
        }
      ]
    },
    {
      "cell_type": "code",
      "metadata": {
        "id": "w7MTLdnVbxcy",
        "colab": {
          "base_uri": "https://localhost:8080/"
        },
        "outputId": "8bbb0a2c-25f9-4137-95f3-9cab6552ab4d"
      },
      "source": [
        "cant_NaN = df.isnull().sum()\n",
        "print(cant_NaN,'\\r\\n')\n",
        "cant_tipovuelo = df['Clasificación Vuelo'].value_counts()\n",
        "print(cant_tipovuelo,'\\r\\n')\n",
        "cant_aeronave = df['Aeronave'].value_counts()\n",
        "print(cant_aeronave,'\\r\\n')\n",
        "cant_clase = df['Clase de Vuelo (todos los vuelos)'].value_counts()\n",
        "print(cant_clase,'\\r\\n')"
      ],
      "execution_count": null,
      "outputs": [
        {
          "output_type": "stream",
          "name": "stdout",
          "text": [
            "Fecha                                0\n",
            "Hora UTC                             0\n",
            "Clase de Vuelo (todos los vuelos)    0\n",
            "Clasificación Vuelo                  0\n",
            "Tipo de Movimiento                   0\n",
            "Aeropuerto                           0\n",
            "Origen / Destino                     0\n",
            "Aerolinea Nombre                     0\n",
            "Aeronave                             0\n",
            "Pasajeros                            0\n",
            "Calidad dato                         0\n",
            "dtype: int64 \r\n",
            "\n",
            "Dom      197828\n",
            "Inter     21975\n",
            "Name: Clasificación Vuelo, dtype: int64 \r\n",
            "\n",
            "0                   31746\n",
            "EMB-ERJ190100IGW    22757\n",
            "CE-152               8955\n",
            "CE-150-L             8203\n",
            "AIB-A320-232         7853\n",
            "                    ...  \n",
            "BE-V-35-A               1\n",
            "CE-337-B                1\n",
            "FT-2                    1\n",
            "BW-FIREFLY-7-15         1\n",
            "BE-95-A55               1\n",
            "Name: Aeronave, Length: 571, dtype: int64 \n",
            "\n",
            "Regular                                   72441\n",
            "Vuelo Privado con Matrícula Nacional      49092\n",
            "Vuelo Escuela                             46333\n",
            "No Regular                                25074\n",
            "Vuelo Oficial Nacional                    21699\n",
            "Vuelo de Adiestramiento                    2822\n",
            "Vuelo Privado con Matrícula Extranjera     1356\n",
            "Trabajo Aéreo                               826\n",
            "Vuelo Oficial Extranjero                    160\n",
            "Name: Clase de Vuelo (todos los vuelos), dtype: int64 \n",
            "\n"
          ]
        }
      ]
    },
    {
      "cell_type": "code",
      "metadata": {
        "id": "kdiXT7crPj3Q",
        "colab": {
          "base_uri": "https://localhost:8080/"
        },
        "outputId": "97e1aa2a-52e7-489a-9263-95972e3bc726"
      },
      "source": [
        "#eliminamos vuelos internacionales, nos interesan los vuelos domésticos\n",
        "df = df.drop(df[df['Clasificación Vuelo']=='Inter'].index)\n",
        "np.shape(df)"
      ],
      "execution_count": null,
      "outputs": [
        {
          "output_type": "execute_result",
          "data": {
            "text/plain": [
              "(197828, 11)"
            ]
          },
          "metadata": {},
          "execution_count": 196
        }
      ]
    },
    {
      "cell_type": "code",
      "metadata": {
        "id": "QTWS3kXNNmTg",
        "colab": {
          "base_uri": "https://localhost:8080/"
        },
        "outputId": "6e35d411-9c3a-42f4-9936-e14a37393206"
      },
      "source": [
        "#eliminamos las aeronaves que tienen como nombre \"0\"\n",
        "df = df.drop(df[df['Aeronave']=='0'].index)\n",
        "np.shape(df)"
      ],
      "execution_count": null,
      "outputs": [
        {
          "output_type": "execute_result",
          "data": {
            "text/plain": [
              "(177204, 11)"
            ]
          },
          "metadata": {},
          "execution_count": 197
        }
      ]
    },
    {
      "cell_type": "code",
      "metadata": {
        "id": "DZKasACR7vD6",
        "colab": {
          "base_uri": "https://localhost:8080/"
        },
        "outputId": "b9c3165f-db59-4648-aaa5-ba7010308490"
      },
      "source": [
        "#asi nos queda la base de aterrizajes y despegues\n",
        "print(f'La base de aterrizajes y despegues nos queda con {df.shape[0]} filas y {df.shape[1]} columnas')"
      ],
      "execution_count": null,
      "outputs": [
        {
          "output_type": "stream",
          "name": "stdout",
          "text": [
            "La base de aterrizajes y despegues nos queda con 177204 filas y 11 columnas\n"
          ]
        }
      ]
    },
    {
      "cell_type": "code",
      "metadata": {
        "id": "FXt1i1aN8QUz",
        "colab": {
          "base_uri": "https://localhost:8080/",
          "height": 380
        },
        "outputId": "834a4bf3-618d-4e39-a788-e04161fd6fee"
      },
      "source": [
        "filas = np.shape(df)[0] # [0] para la primera dimensión\n",
        "print(f'Filas: {filas}')\n",
        "\n",
        "columnas = np.shape(df)[1] # [1] para la segunda dimensión\n",
        "print(f'Columnas: {columnas}\\r\\n')\n",
        "\n",
        "print('Output de \".head(5)\": ')\n",
        "df.head(5)"
      ],
      "execution_count": null,
      "outputs": [
        {
          "output_type": "stream",
          "name": "stdout",
          "text": [
            "Filas: 177204\n",
            "Columnas: 11\r\n",
            "\n",
            "Output de \".head(5)\": \n"
          ]
        },
        {
          "output_type": "execute_result",
          "data": {
            "text/html": [
              "<div>\n",
              "<style scoped>\n",
              "    .dataframe tbody tr th:only-of-type {\n",
              "        vertical-align: middle;\n",
              "    }\n",
              "\n",
              "    .dataframe tbody tr th {\n",
              "        vertical-align: top;\n",
              "    }\n",
              "\n",
              "    .dataframe thead th {\n",
              "        text-align: right;\n",
              "    }\n",
              "</style>\n",
              "<table border=\"1\" class=\"dataframe\">\n",
              "  <thead>\n",
              "    <tr style=\"text-align: right;\">\n",
              "      <th></th>\n",
              "      <th>Fecha</th>\n",
              "      <th>Hora UTC</th>\n",
              "      <th>Clase de Vuelo (todos los vuelos)</th>\n",
              "      <th>Clasificación Vuelo</th>\n",
              "      <th>Tipo de Movimiento</th>\n",
              "      <th>Aeropuerto</th>\n",
              "      <th>Origen / Destino</th>\n",
              "      <th>Aerolinea Nombre</th>\n",
              "      <th>Aeronave</th>\n",
              "      <th>Pasajeros</th>\n",
              "      <th>Calidad dato</th>\n",
              "    </tr>\n",
              "  </thead>\n",
              "  <tbody>\n",
              "    <tr>\n",
              "      <th>0</th>\n",
              "      <td>01/01/2021</td>\n",
              "      <td>00:02</td>\n",
              "      <td>Vuelo Privado con Matrícula Nacional</td>\n",
              "      <td>Dom</td>\n",
              "      <td>Despegue</td>\n",
              "      <td>PAR</td>\n",
              "      <td>ROS</td>\n",
              "      <td>0</td>\n",
              "      <td>PA-PA-28-181</td>\n",
              "      <td>0</td>\n",
              "      <td>DEFINITIVO</td>\n",
              "    </tr>\n",
              "    <tr>\n",
              "      <th>1</th>\n",
              "      <td>01/01/2021</td>\n",
              "      <td>00:24</td>\n",
              "      <td>Regular</td>\n",
              "      <td>Dom</td>\n",
              "      <td>Aterrizaje</td>\n",
              "      <td>EZE</td>\n",
              "      <td>GRA</td>\n",
              "      <td>AEROLINEAS ARGENTINAS SA</td>\n",
              "      <td>BO-B737-8MB</td>\n",
              "      <td>70</td>\n",
              "      <td>DEFINITIVO</td>\n",
              "    </tr>\n",
              "    <tr>\n",
              "      <th>2</th>\n",
              "      <td>01/01/2021</td>\n",
              "      <td>00:26</td>\n",
              "      <td>Regular</td>\n",
              "      <td>Dom</td>\n",
              "      <td>Aterrizaje</td>\n",
              "      <td>EZE</td>\n",
              "      <td>ECA</td>\n",
              "      <td>AEROLINEAS ARGENTINAS SA</td>\n",
              "      <td>BO-737-800</td>\n",
              "      <td>70</td>\n",
              "      <td>DEFINITIVO</td>\n",
              "    </tr>\n",
              "    <tr>\n",
              "      <th>3</th>\n",
              "      <td>01/01/2021</td>\n",
              "      <td>00:29</td>\n",
              "      <td>Regular</td>\n",
              "      <td>Dom</td>\n",
              "      <td>Aterrizaje</td>\n",
              "      <td>EZE</td>\n",
              "      <td>SAL</td>\n",
              "      <td>AEROLINEAS ARGENTINAS SA</td>\n",
              "      <td>BO-B-737-76N</td>\n",
              "      <td>12</td>\n",
              "      <td>DEFINITIVO</td>\n",
              "    </tr>\n",
              "    <tr>\n",
              "      <th>4</th>\n",
              "      <td>01/01/2021</td>\n",
              "      <td>00:37</td>\n",
              "      <td>Regular</td>\n",
              "      <td>Dom</td>\n",
              "      <td>Aterrizaje</td>\n",
              "      <td>EZE</td>\n",
              "      <td>TUC</td>\n",
              "      <td>AEROLINEAS ARGENTINAS SA</td>\n",
              "      <td>EMB-ERJ190100IGW</td>\n",
              "      <td>26</td>\n",
              "      <td>DEFINITIVO</td>\n",
              "    </tr>\n",
              "  </tbody>\n",
              "</table>\n",
              "</div>"
            ],
            "text/plain": [
              "        Fecha Hora UTC  ... Pasajeros Calidad dato\n",
              "0  01/01/2021    00:02  ...         0   DEFINITIVO\n",
              "1  01/01/2021    00:24  ...        70   DEFINITIVO\n",
              "2  01/01/2021    00:26  ...        70   DEFINITIVO\n",
              "3  01/01/2021    00:29  ...        12   DEFINITIVO\n",
              "4  01/01/2021    00:37  ...        26   DEFINITIVO\n",
              "\n",
              "[5 rows x 11 columns]"
            ]
          },
          "metadata": {},
          "execution_count": 199
        }
      ]
    },
    {
      "cell_type": "code",
      "metadata": {
        "id": "mcDfV7kWV_Mx"
      },
      "source": [
        "#insertamos las columnas Origen y Destino\n",
        "df.insert(2, \"Destino\", 0, allow_duplicates=False)\n",
        "df.insert(2, \"Origen\", 0, allow_duplicates=False)"
      ],
      "execution_count": null,
      "outputs": []
    },
    {
      "cell_type": "code",
      "metadata": {
        "id": "bYrnlbfOGGMQ",
        "colab": {
          "base_uri": "https://localhost:8080/",
          "height": 310
        },
        "outputId": "a970de4f-0aba-4adc-f1b8-eb88425cd5cd"
      },
      "source": [
        "np.shape(df)\n",
        "df.head(5)"
      ],
      "execution_count": null,
      "outputs": [
        {
          "output_type": "execute_result",
          "data": {
            "text/html": [
              "<div>\n",
              "<style scoped>\n",
              "    .dataframe tbody tr th:only-of-type {\n",
              "        vertical-align: middle;\n",
              "    }\n",
              "\n",
              "    .dataframe tbody tr th {\n",
              "        vertical-align: top;\n",
              "    }\n",
              "\n",
              "    .dataframe thead th {\n",
              "        text-align: right;\n",
              "    }\n",
              "</style>\n",
              "<table border=\"1\" class=\"dataframe\">\n",
              "  <thead>\n",
              "    <tr style=\"text-align: right;\">\n",
              "      <th></th>\n",
              "      <th>Fecha</th>\n",
              "      <th>Hora UTC</th>\n",
              "      <th>Origen</th>\n",
              "      <th>Destino</th>\n",
              "      <th>Clase de Vuelo (todos los vuelos)</th>\n",
              "      <th>Clasificación Vuelo</th>\n",
              "      <th>Tipo de Movimiento</th>\n",
              "      <th>Aeropuerto</th>\n",
              "      <th>Origen / Destino</th>\n",
              "      <th>Aerolinea Nombre</th>\n",
              "      <th>Aeronave</th>\n",
              "      <th>Pasajeros</th>\n",
              "      <th>Calidad dato</th>\n",
              "    </tr>\n",
              "  </thead>\n",
              "  <tbody>\n",
              "    <tr>\n",
              "      <th>0</th>\n",
              "      <td>01/01/2021</td>\n",
              "      <td>00:02</td>\n",
              "      <td>0</td>\n",
              "      <td>0</td>\n",
              "      <td>Vuelo Privado con Matrícula Nacional</td>\n",
              "      <td>Dom</td>\n",
              "      <td>Despegue</td>\n",
              "      <td>PAR</td>\n",
              "      <td>ROS</td>\n",
              "      <td>0</td>\n",
              "      <td>PA-PA-28-181</td>\n",
              "      <td>0</td>\n",
              "      <td>DEFINITIVO</td>\n",
              "    </tr>\n",
              "    <tr>\n",
              "      <th>1</th>\n",
              "      <td>01/01/2021</td>\n",
              "      <td>00:24</td>\n",
              "      <td>0</td>\n",
              "      <td>0</td>\n",
              "      <td>Regular</td>\n",
              "      <td>Dom</td>\n",
              "      <td>Aterrizaje</td>\n",
              "      <td>EZE</td>\n",
              "      <td>GRA</td>\n",
              "      <td>AEROLINEAS ARGENTINAS SA</td>\n",
              "      <td>BO-B737-8MB</td>\n",
              "      <td>70</td>\n",
              "      <td>DEFINITIVO</td>\n",
              "    </tr>\n",
              "    <tr>\n",
              "      <th>2</th>\n",
              "      <td>01/01/2021</td>\n",
              "      <td>00:26</td>\n",
              "      <td>0</td>\n",
              "      <td>0</td>\n",
              "      <td>Regular</td>\n",
              "      <td>Dom</td>\n",
              "      <td>Aterrizaje</td>\n",
              "      <td>EZE</td>\n",
              "      <td>ECA</td>\n",
              "      <td>AEROLINEAS ARGENTINAS SA</td>\n",
              "      <td>BO-737-800</td>\n",
              "      <td>70</td>\n",
              "      <td>DEFINITIVO</td>\n",
              "    </tr>\n",
              "    <tr>\n",
              "      <th>3</th>\n",
              "      <td>01/01/2021</td>\n",
              "      <td>00:29</td>\n",
              "      <td>0</td>\n",
              "      <td>0</td>\n",
              "      <td>Regular</td>\n",
              "      <td>Dom</td>\n",
              "      <td>Aterrizaje</td>\n",
              "      <td>EZE</td>\n",
              "      <td>SAL</td>\n",
              "      <td>AEROLINEAS ARGENTINAS SA</td>\n",
              "      <td>BO-B-737-76N</td>\n",
              "      <td>12</td>\n",
              "      <td>DEFINITIVO</td>\n",
              "    </tr>\n",
              "    <tr>\n",
              "      <th>4</th>\n",
              "      <td>01/01/2021</td>\n",
              "      <td>00:37</td>\n",
              "      <td>0</td>\n",
              "      <td>0</td>\n",
              "      <td>Regular</td>\n",
              "      <td>Dom</td>\n",
              "      <td>Aterrizaje</td>\n",
              "      <td>EZE</td>\n",
              "      <td>TUC</td>\n",
              "      <td>AEROLINEAS ARGENTINAS SA</td>\n",
              "      <td>EMB-ERJ190100IGW</td>\n",
              "      <td>26</td>\n",
              "      <td>DEFINITIVO</td>\n",
              "    </tr>\n",
              "  </tbody>\n",
              "</table>\n",
              "</div>"
            ],
            "text/plain": [
              "        Fecha Hora UTC  Origen  ...          Aeronave Pasajeros Calidad dato\n",
              "0  01/01/2021    00:02       0  ...      PA-PA-28-181         0   DEFINITIVO\n",
              "1  01/01/2021    00:24       0  ...       BO-B737-8MB        70   DEFINITIVO\n",
              "2  01/01/2021    00:26       0  ...        BO-737-800        70   DEFINITIVO\n",
              "3  01/01/2021    00:29       0  ...      BO-B-737-76N        12   DEFINITIVO\n",
              "4  01/01/2021    00:37       0  ...  EMB-ERJ190100IGW        26   DEFINITIVO\n",
              "\n",
              "[5 rows x 13 columns]"
            ]
          },
          "metadata": {},
          "execution_count": 201
        }
      ]
    },
    {
      "cell_type": "markdown",
      "metadata": {
        "id": "kmvT4DrNuIp8"
      },
      "source": [
        "# Preprocesamiento"
      ]
    },
    {
      "cell_type": "code",
      "metadata": {
        "id": "NqrnXEbpWOWx",
        "colab": {
          "base_uri": "https://localhost:8080/",
          "height": 293
        },
        "outputId": "8c8900c3-45cd-4cf8-d149-e8f852c0a472"
      },
      "source": [
        "#modificamos los nombres de las columnas\n",
        "df.rename(columns={'Fecha':'fecha', 'Hora UTC':'hora_UTC', 'Destino':'destino', 'Origen':'origen', 'Clase de Vuelo (todos los vuelos)':'clase_vuelo', 'Clasificación Vuelo':'clasificacion_vuelo', 'Tipo de Movimiento':'tipo_movimiento', 'Aeropuerto':'aeropuerto', 'Origen / Destino':'origen_destino', 'Aerolinea Nombre':'aerolinea_nombre', 'Aeronave':'aeronave', 'Pasajeros':'pasajeros', 'Calidad dato':'calidad_dato'},\n",
        "          inplace=True)\n",
        "df.head()"
      ],
      "execution_count": null,
      "outputs": [
        {
          "output_type": "execute_result",
          "data": {
            "text/html": [
              "<div>\n",
              "<style scoped>\n",
              "    .dataframe tbody tr th:only-of-type {\n",
              "        vertical-align: middle;\n",
              "    }\n",
              "\n",
              "    .dataframe tbody tr th {\n",
              "        vertical-align: top;\n",
              "    }\n",
              "\n",
              "    .dataframe thead th {\n",
              "        text-align: right;\n",
              "    }\n",
              "</style>\n",
              "<table border=\"1\" class=\"dataframe\">\n",
              "  <thead>\n",
              "    <tr style=\"text-align: right;\">\n",
              "      <th></th>\n",
              "      <th>fecha</th>\n",
              "      <th>hora_UTC</th>\n",
              "      <th>origen</th>\n",
              "      <th>destino</th>\n",
              "      <th>clase_vuelo</th>\n",
              "      <th>clasificacion_vuelo</th>\n",
              "      <th>tipo_movimiento</th>\n",
              "      <th>aeropuerto</th>\n",
              "      <th>origen_destino</th>\n",
              "      <th>aerolinea_nombre</th>\n",
              "      <th>aeronave</th>\n",
              "      <th>pasajeros</th>\n",
              "      <th>calidad_dato</th>\n",
              "    </tr>\n",
              "  </thead>\n",
              "  <tbody>\n",
              "    <tr>\n",
              "      <th>0</th>\n",
              "      <td>01/01/2021</td>\n",
              "      <td>00:02</td>\n",
              "      <td>0</td>\n",
              "      <td>0</td>\n",
              "      <td>Vuelo Privado con Matrícula Nacional</td>\n",
              "      <td>Dom</td>\n",
              "      <td>Despegue</td>\n",
              "      <td>PAR</td>\n",
              "      <td>ROS</td>\n",
              "      <td>0</td>\n",
              "      <td>PA-PA-28-181</td>\n",
              "      <td>0</td>\n",
              "      <td>DEFINITIVO</td>\n",
              "    </tr>\n",
              "    <tr>\n",
              "      <th>1</th>\n",
              "      <td>01/01/2021</td>\n",
              "      <td>00:24</td>\n",
              "      <td>0</td>\n",
              "      <td>0</td>\n",
              "      <td>Regular</td>\n",
              "      <td>Dom</td>\n",
              "      <td>Aterrizaje</td>\n",
              "      <td>EZE</td>\n",
              "      <td>GRA</td>\n",
              "      <td>AEROLINEAS ARGENTINAS SA</td>\n",
              "      <td>BO-B737-8MB</td>\n",
              "      <td>70</td>\n",
              "      <td>DEFINITIVO</td>\n",
              "    </tr>\n",
              "    <tr>\n",
              "      <th>2</th>\n",
              "      <td>01/01/2021</td>\n",
              "      <td>00:26</td>\n",
              "      <td>0</td>\n",
              "      <td>0</td>\n",
              "      <td>Regular</td>\n",
              "      <td>Dom</td>\n",
              "      <td>Aterrizaje</td>\n",
              "      <td>EZE</td>\n",
              "      <td>ECA</td>\n",
              "      <td>AEROLINEAS ARGENTINAS SA</td>\n",
              "      <td>BO-737-800</td>\n",
              "      <td>70</td>\n",
              "      <td>DEFINITIVO</td>\n",
              "    </tr>\n",
              "    <tr>\n",
              "      <th>3</th>\n",
              "      <td>01/01/2021</td>\n",
              "      <td>00:29</td>\n",
              "      <td>0</td>\n",
              "      <td>0</td>\n",
              "      <td>Regular</td>\n",
              "      <td>Dom</td>\n",
              "      <td>Aterrizaje</td>\n",
              "      <td>EZE</td>\n",
              "      <td>SAL</td>\n",
              "      <td>AEROLINEAS ARGENTINAS SA</td>\n",
              "      <td>BO-B-737-76N</td>\n",
              "      <td>12</td>\n",
              "      <td>DEFINITIVO</td>\n",
              "    </tr>\n",
              "    <tr>\n",
              "      <th>4</th>\n",
              "      <td>01/01/2021</td>\n",
              "      <td>00:37</td>\n",
              "      <td>0</td>\n",
              "      <td>0</td>\n",
              "      <td>Regular</td>\n",
              "      <td>Dom</td>\n",
              "      <td>Aterrizaje</td>\n",
              "      <td>EZE</td>\n",
              "      <td>TUC</td>\n",
              "      <td>AEROLINEAS ARGENTINAS SA</td>\n",
              "      <td>EMB-ERJ190100IGW</td>\n",
              "      <td>26</td>\n",
              "      <td>DEFINITIVO</td>\n",
              "    </tr>\n",
              "  </tbody>\n",
              "</table>\n",
              "</div>"
            ],
            "text/plain": [
              "        fecha hora_UTC  origen  ...          aeronave pasajeros calidad_dato\n",
              "0  01/01/2021    00:02       0  ...      PA-PA-28-181         0   DEFINITIVO\n",
              "1  01/01/2021    00:24       0  ...       BO-B737-8MB        70   DEFINITIVO\n",
              "2  01/01/2021    00:26       0  ...        BO-737-800        70   DEFINITIVO\n",
              "3  01/01/2021    00:29       0  ...      BO-B-737-76N        12   DEFINITIVO\n",
              "4  01/01/2021    00:37       0  ...  EMB-ERJ190100IGW        26   DEFINITIVO\n",
              "\n",
              "[5 rows x 13 columns]"
            ]
          },
          "metadata": {},
          "execution_count": 202
        }
      ]
    },
    {
      "cell_type": "code",
      "metadata": {
        "id": "l-bn5WNWi47b"
      },
      "source": [
        "#cambiamos las columnas. Si tipo_movimiento es Despegue, la columna origen se completa con la columna aeropuerto,\n",
        "# y si es Aterrizaje, con origen_destino.\n",
        "#La columna destino se completa con la columna contraria. \n",
        "def insertOrigin(value):\n",
        "    if value[0] == 'Aterrizaje':\n",
        "        return value[2]\n",
        "    elif value[0] == 'Despegue':\n",
        "        return value[1]\n",
        "\n",
        "df['origen'] = df[['tipo_movimiento','aeropuerto', 'origen_destino']].apply(insertOrigin, axis=1)"
      ],
      "execution_count": null,
      "outputs": []
    },
    {
      "cell_type": "code",
      "metadata": {
        "id": "3pG2kOKswqM4",
        "colab": {
          "base_uri": "https://localhost:8080/",
          "height": 614
        },
        "outputId": "006f5ede-eb5f-4b0d-9ffb-e56380193181"
      },
      "source": [
        "def insertDestination(value):\n",
        "    if value[0] == 'Despegue':\n",
        "        return value[2]\n",
        "    elif value[0] == 'Aterrizaje':\n",
        "        return value[1]\n",
        "\n",
        "df['destino'] = df[['tipo_movimiento','aeropuerto', 'origen_destino']].apply(insertDestination, axis=1)\n",
        "df"
      ],
      "execution_count": null,
      "outputs": [
        {
          "output_type": "execute_result",
          "data": {
            "text/html": [
              "<div>\n",
              "<style scoped>\n",
              "    .dataframe tbody tr th:only-of-type {\n",
              "        vertical-align: middle;\n",
              "    }\n",
              "\n",
              "    .dataframe tbody tr th {\n",
              "        vertical-align: top;\n",
              "    }\n",
              "\n",
              "    .dataframe thead th {\n",
              "        text-align: right;\n",
              "    }\n",
              "</style>\n",
              "<table border=\"1\" class=\"dataframe\">\n",
              "  <thead>\n",
              "    <tr style=\"text-align: right;\">\n",
              "      <th></th>\n",
              "      <th>fecha</th>\n",
              "      <th>hora_UTC</th>\n",
              "      <th>origen</th>\n",
              "      <th>destino</th>\n",
              "      <th>clase_vuelo</th>\n",
              "      <th>clasificacion_vuelo</th>\n",
              "      <th>tipo_movimiento</th>\n",
              "      <th>aeropuerto</th>\n",
              "      <th>origen_destino</th>\n",
              "      <th>aerolinea_nombre</th>\n",
              "      <th>aeronave</th>\n",
              "      <th>pasajeros</th>\n",
              "      <th>calidad_dato</th>\n",
              "    </tr>\n",
              "  </thead>\n",
              "  <tbody>\n",
              "    <tr>\n",
              "      <th>0</th>\n",
              "      <td>01/01/2021</td>\n",
              "      <td>00:02</td>\n",
              "      <td>PAR</td>\n",
              "      <td>ROS</td>\n",
              "      <td>Vuelo Privado con Matrícula Nacional</td>\n",
              "      <td>Dom</td>\n",
              "      <td>Despegue</td>\n",
              "      <td>PAR</td>\n",
              "      <td>ROS</td>\n",
              "      <td>0</td>\n",
              "      <td>PA-PA-28-181</td>\n",
              "      <td>0</td>\n",
              "      <td>DEFINITIVO</td>\n",
              "    </tr>\n",
              "    <tr>\n",
              "      <th>1</th>\n",
              "      <td>01/01/2021</td>\n",
              "      <td>00:24</td>\n",
              "      <td>GRA</td>\n",
              "      <td>EZE</td>\n",
              "      <td>Regular</td>\n",
              "      <td>Dom</td>\n",
              "      <td>Aterrizaje</td>\n",
              "      <td>EZE</td>\n",
              "      <td>GRA</td>\n",
              "      <td>AEROLINEAS ARGENTINAS SA</td>\n",
              "      <td>BO-B737-8MB</td>\n",
              "      <td>70</td>\n",
              "      <td>DEFINITIVO</td>\n",
              "    </tr>\n",
              "    <tr>\n",
              "      <th>2</th>\n",
              "      <td>01/01/2021</td>\n",
              "      <td>00:26</td>\n",
              "      <td>ECA</td>\n",
              "      <td>EZE</td>\n",
              "      <td>Regular</td>\n",
              "      <td>Dom</td>\n",
              "      <td>Aterrizaje</td>\n",
              "      <td>EZE</td>\n",
              "      <td>ECA</td>\n",
              "      <td>AEROLINEAS ARGENTINAS SA</td>\n",
              "      <td>BO-737-800</td>\n",
              "      <td>70</td>\n",
              "      <td>DEFINITIVO</td>\n",
              "    </tr>\n",
              "    <tr>\n",
              "      <th>3</th>\n",
              "      <td>01/01/2021</td>\n",
              "      <td>00:29</td>\n",
              "      <td>SAL</td>\n",
              "      <td>EZE</td>\n",
              "      <td>Regular</td>\n",
              "      <td>Dom</td>\n",
              "      <td>Aterrizaje</td>\n",
              "      <td>EZE</td>\n",
              "      <td>SAL</td>\n",
              "      <td>AEROLINEAS ARGENTINAS SA</td>\n",
              "      <td>BO-B-737-76N</td>\n",
              "      <td>12</td>\n",
              "      <td>DEFINITIVO</td>\n",
              "    </tr>\n",
              "    <tr>\n",
              "      <th>4</th>\n",
              "      <td>01/01/2021</td>\n",
              "      <td>00:37</td>\n",
              "      <td>TUC</td>\n",
              "      <td>EZE</td>\n",
              "      <td>Regular</td>\n",
              "      <td>Dom</td>\n",
              "      <td>Aterrizaje</td>\n",
              "      <td>EZE</td>\n",
              "      <td>TUC</td>\n",
              "      <td>AEROLINEAS ARGENTINAS SA</td>\n",
              "      <td>EMB-ERJ190100IGW</td>\n",
              "      <td>26</td>\n",
              "      <td>DEFINITIVO</td>\n",
              "    </tr>\n",
              "    <tr>\n",
              "      <th>...</th>\n",
              "      <td>...</td>\n",
              "      <td>...</td>\n",
              "      <td>...</td>\n",
              "      <td>...</td>\n",
              "      <td>...</td>\n",
              "      <td>...</td>\n",
              "      <td>...</td>\n",
              "      <td>...</td>\n",
              "      <td>...</td>\n",
              "      <td>...</td>\n",
              "      <td>...</td>\n",
              "      <td>...</td>\n",
              "      <td>...</td>\n",
              "    </tr>\n",
              "    <tr>\n",
              "      <th>219798</th>\n",
              "      <td>30/09/2021</td>\n",
              "      <td>23:56</td>\n",
              "      <td>USU</td>\n",
              "      <td>AER</td>\n",
              "      <td>Regular</td>\n",
              "      <td>Dom</td>\n",
              "      <td>Despegue</td>\n",
              "      <td>USU</td>\n",
              "      <td>AER</td>\n",
              "      <td>AEROLINEAS ARGENTINAS SA</td>\n",
              "      <td>BO-B737-8</td>\n",
              "      <td>86</td>\n",
              "      <td>PROVISORIO</td>\n",
              "    </tr>\n",
              "    <tr>\n",
              "      <th>219799</th>\n",
              "      <td>30/09/2021</td>\n",
              "      <td>23:57</td>\n",
              "      <td>BAR</td>\n",
              "      <td>AER</td>\n",
              "      <td>Regular</td>\n",
              "      <td>Dom</td>\n",
              "      <td>Aterrizaje</td>\n",
              "      <td>AER</td>\n",
              "      <td>BAR</td>\n",
              "      <td>AEROLINEAS ARGENTINAS SA</td>\n",
              "      <td>BO-737-800</td>\n",
              "      <td>86</td>\n",
              "      <td>PROVISORIO</td>\n",
              "    </tr>\n",
              "    <tr>\n",
              "      <th>219800</th>\n",
              "      <td>30/09/2021</td>\n",
              "      <td>23:57</td>\n",
              "      <td>AER</td>\n",
              "      <td>BAR</td>\n",
              "      <td>Regular</td>\n",
              "      <td>Dom</td>\n",
              "      <td>Aterrizaje</td>\n",
              "      <td>BAR</td>\n",
              "      <td>AER</td>\n",
              "      <td>JETSMART AIRLINES S.A.</td>\n",
              "      <td>AIB-A320-232</td>\n",
              "      <td>92</td>\n",
              "      <td>PROVISORIO</td>\n",
              "    </tr>\n",
              "    <tr>\n",
              "      <th>219801</th>\n",
              "      <td>30/09/2021</td>\n",
              "      <td>23:59</td>\n",
              "      <td>AER</td>\n",
              "      <td>CRV</td>\n",
              "      <td>Regular</td>\n",
              "      <td>Dom</td>\n",
              "      <td>Aterrizaje</td>\n",
              "      <td>CRV</td>\n",
              "      <td>AER</td>\n",
              "      <td>AEROLINEAS ARGENTINAS SA</td>\n",
              "      <td>BO-B737-800</td>\n",
              "      <td>59</td>\n",
              "      <td>PROVISORIO</td>\n",
              "    </tr>\n",
              "    <tr>\n",
              "      <th>219802</th>\n",
              "      <td>30/09/2021</td>\n",
              "      <td>23:59</td>\n",
              "      <td>POS</td>\n",
              "      <td>AER</td>\n",
              "      <td>Regular</td>\n",
              "      <td>Dom</td>\n",
              "      <td>Despegue</td>\n",
              "      <td>POS</td>\n",
              "      <td>AER</td>\n",
              "      <td>AEROLINEAS ARGENTINAS SA</td>\n",
              "      <td>EMB-ERJ190100IGW</td>\n",
              "      <td>46</td>\n",
              "      <td>PROVISORIO</td>\n",
              "    </tr>\n",
              "  </tbody>\n",
              "</table>\n",
              "<p>177204 rows × 13 columns</p>\n",
              "</div>"
            ],
            "text/plain": [
              "             fecha hora_UTC origen  ...          aeronave pasajeros calidad_dato\n",
              "0       01/01/2021    00:02    PAR  ...      PA-PA-28-181         0   DEFINITIVO\n",
              "1       01/01/2021    00:24    GRA  ...       BO-B737-8MB        70   DEFINITIVO\n",
              "2       01/01/2021    00:26    ECA  ...        BO-737-800        70   DEFINITIVO\n",
              "3       01/01/2021    00:29    SAL  ...      BO-B-737-76N        12   DEFINITIVO\n",
              "4       01/01/2021    00:37    TUC  ...  EMB-ERJ190100IGW        26   DEFINITIVO\n",
              "...            ...      ...    ...  ...               ...       ...          ...\n",
              "219798  30/09/2021    23:56    USU  ...         BO-B737-8        86   PROVISORIO\n",
              "219799  30/09/2021    23:57    BAR  ...        BO-737-800        86   PROVISORIO\n",
              "219800  30/09/2021    23:57    AER  ...      AIB-A320-232        92   PROVISORIO\n",
              "219801  30/09/2021    23:59    AER  ...       BO-B737-800        59   PROVISORIO\n",
              "219802  30/09/2021    23:59    POS  ...  EMB-ERJ190100IGW        46   PROVISORIO\n",
              "\n",
              "[177204 rows x 13 columns]"
            ]
          },
          "metadata": {},
          "execution_count": 204
        }
      ]
    },
    {
      "cell_type": "code",
      "metadata": {
        "id": "BWsAWtjn4eeN",
        "colab": {
          "base_uri": "https://localhost:8080/",
          "height": 206
        },
        "outputId": "b2de9d95-ea53-4525-c48c-e01a9b96e2fe"
      },
      "source": [
        "#Eliminamos las columnas tipo_movimiento y origen_destino\n",
        "df.drop(['tipo_movimiento', 'origen_destino'], axis=1, inplace=True)\n",
        "df.head(5)"
      ],
      "execution_count": null,
      "outputs": [
        {
          "output_type": "execute_result",
          "data": {
            "text/html": [
              "<div>\n",
              "<style scoped>\n",
              "    .dataframe tbody tr th:only-of-type {\n",
              "        vertical-align: middle;\n",
              "    }\n",
              "\n",
              "    .dataframe tbody tr th {\n",
              "        vertical-align: top;\n",
              "    }\n",
              "\n",
              "    .dataframe thead th {\n",
              "        text-align: right;\n",
              "    }\n",
              "</style>\n",
              "<table border=\"1\" class=\"dataframe\">\n",
              "  <thead>\n",
              "    <tr style=\"text-align: right;\">\n",
              "      <th></th>\n",
              "      <th>fecha</th>\n",
              "      <th>hora_UTC</th>\n",
              "      <th>origen</th>\n",
              "      <th>destino</th>\n",
              "      <th>clase_vuelo</th>\n",
              "      <th>clasificacion_vuelo</th>\n",
              "      <th>aeropuerto</th>\n",
              "      <th>aerolinea_nombre</th>\n",
              "      <th>aeronave</th>\n",
              "      <th>pasajeros</th>\n",
              "      <th>calidad_dato</th>\n",
              "    </tr>\n",
              "  </thead>\n",
              "  <tbody>\n",
              "    <tr>\n",
              "      <th>0</th>\n",
              "      <td>01/01/2021</td>\n",
              "      <td>00:02</td>\n",
              "      <td>PAR</td>\n",
              "      <td>ROS</td>\n",
              "      <td>Vuelo Privado con Matrícula Nacional</td>\n",
              "      <td>Dom</td>\n",
              "      <td>PAR</td>\n",
              "      <td>0</td>\n",
              "      <td>PA-PA-28-181</td>\n",
              "      <td>0</td>\n",
              "      <td>DEFINITIVO</td>\n",
              "    </tr>\n",
              "    <tr>\n",
              "      <th>1</th>\n",
              "      <td>01/01/2021</td>\n",
              "      <td>00:24</td>\n",
              "      <td>GRA</td>\n",
              "      <td>EZE</td>\n",
              "      <td>Regular</td>\n",
              "      <td>Dom</td>\n",
              "      <td>EZE</td>\n",
              "      <td>AEROLINEAS ARGENTINAS SA</td>\n",
              "      <td>BO-B737-8MB</td>\n",
              "      <td>70</td>\n",
              "      <td>DEFINITIVO</td>\n",
              "    </tr>\n",
              "    <tr>\n",
              "      <th>2</th>\n",
              "      <td>01/01/2021</td>\n",
              "      <td>00:26</td>\n",
              "      <td>ECA</td>\n",
              "      <td>EZE</td>\n",
              "      <td>Regular</td>\n",
              "      <td>Dom</td>\n",
              "      <td>EZE</td>\n",
              "      <td>AEROLINEAS ARGENTINAS SA</td>\n",
              "      <td>BO-737-800</td>\n",
              "      <td>70</td>\n",
              "      <td>DEFINITIVO</td>\n",
              "    </tr>\n",
              "    <tr>\n",
              "      <th>3</th>\n",
              "      <td>01/01/2021</td>\n",
              "      <td>00:29</td>\n",
              "      <td>SAL</td>\n",
              "      <td>EZE</td>\n",
              "      <td>Regular</td>\n",
              "      <td>Dom</td>\n",
              "      <td>EZE</td>\n",
              "      <td>AEROLINEAS ARGENTINAS SA</td>\n",
              "      <td>BO-B-737-76N</td>\n",
              "      <td>12</td>\n",
              "      <td>DEFINITIVO</td>\n",
              "    </tr>\n",
              "    <tr>\n",
              "      <th>4</th>\n",
              "      <td>01/01/2021</td>\n",
              "      <td>00:37</td>\n",
              "      <td>TUC</td>\n",
              "      <td>EZE</td>\n",
              "      <td>Regular</td>\n",
              "      <td>Dom</td>\n",
              "      <td>EZE</td>\n",
              "      <td>AEROLINEAS ARGENTINAS SA</td>\n",
              "      <td>EMB-ERJ190100IGW</td>\n",
              "      <td>26</td>\n",
              "      <td>DEFINITIVO</td>\n",
              "    </tr>\n",
              "  </tbody>\n",
              "</table>\n",
              "</div>"
            ],
            "text/plain": [
              "        fecha hora_UTC origen  ...          aeronave pasajeros calidad_dato\n",
              "0  01/01/2021    00:02    PAR  ...      PA-PA-28-181         0   DEFINITIVO\n",
              "1  01/01/2021    00:24    GRA  ...       BO-B737-8MB        70   DEFINITIVO\n",
              "2  01/01/2021    00:26    ECA  ...        BO-737-800        70   DEFINITIVO\n",
              "3  01/01/2021    00:29    SAL  ...      BO-B-737-76N        12   DEFINITIVO\n",
              "4  01/01/2021    00:37    TUC  ...  EMB-ERJ190100IGW        26   DEFINITIVO\n",
              "\n",
              "[5 rows x 11 columns]"
            ]
          },
          "metadata": {},
          "execution_count": 205
        }
      ]
    },
    {
      "cell_type": "code",
      "metadata": {
        "id": "VfNXHcSiuR_W",
        "colab": {
          "base_uri": "https://localhost:8080/"
        },
        "outputId": "d4f026de-835f-473d-f2d5-78652201ee00"
      },
      "source": [
        "#queremos saber qué tipo de dato tiene cada columna\n",
        "dataTypeSeries = df.dtypes\n",
        "print('Data type of each column of Dataframe :')\n",
        "print(dataTypeSeries)"
      ],
      "execution_count": null,
      "outputs": [
        {
          "output_type": "stream",
          "name": "stdout",
          "text": [
            "Data type of each column of Dataframe :\n",
            "fecha                  object\n",
            "hora_UTC               object\n",
            "origen                 object\n",
            "destino                object\n",
            "clase_vuelo            object\n",
            "clasificacion_vuelo    object\n",
            "aeropuerto             object\n",
            "aerolinea_nombre       object\n",
            "aeronave               object\n",
            "pasajeros               int64\n",
            "calidad_dato           object\n",
            "dtype: object\n"
          ]
        }
      ]
    },
    {
      "cell_type": "code",
      "metadata": {
        "id": "w4-Msr9nvCuq",
        "colab": {
          "base_uri": "https://localhost:8080/"
        },
        "outputId": "bce6a95a-4edc-4e56-89d5-c68a3b6194a9"
      },
      "source": [
        "df['fecha']=pd.to_datetime(df['fecha'])\n",
        "dataTypeSeries = df.dtypes\n",
        "print(dataTypeSeries)"
      ],
      "execution_count": null,
      "outputs": [
        {
          "output_type": "stream",
          "name": "stdout",
          "text": [
            "fecha                  datetime64[ns]\n",
            "hora_UTC                       object\n",
            "origen                         object\n",
            "destino                        object\n",
            "clase_vuelo                    object\n",
            "clasificacion_vuelo            object\n",
            "aeropuerto                     object\n",
            "aerolinea_nombre               object\n",
            "aeronave                       object\n",
            "pasajeros                       int64\n",
            "calidad_dato                   object\n",
            "dtype: object\n"
          ]
        }
      ]
    },
    {
      "cell_type": "code",
      "metadata": {
        "id": "QKnfWXALESct",
        "colab": {
          "base_uri": "https://localhost:8080/",
          "height": 597
        },
        "outputId": "b3130efe-258a-4d3d-e2f1-872eff6a0b13"
      },
      "source": [
        "df['fecha2'] = df[\"fecha\"].dt.strftime(\"%d/%m/%y\")\n",
        "df.head(1200000)"
      ],
      "execution_count": null,
      "outputs": [
        {
          "output_type": "execute_result",
          "data": {
            "text/html": [
              "<div>\n",
              "<style scoped>\n",
              "    .dataframe tbody tr th:only-of-type {\n",
              "        vertical-align: middle;\n",
              "    }\n",
              "\n",
              "    .dataframe tbody tr th {\n",
              "        vertical-align: top;\n",
              "    }\n",
              "\n",
              "    .dataframe thead th {\n",
              "        text-align: right;\n",
              "    }\n",
              "</style>\n",
              "<table border=\"1\" class=\"dataframe\">\n",
              "  <thead>\n",
              "    <tr style=\"text-align: right;\">\n",
              "      <th></th>\n",
              "      <th>fecha</th>\n",
              "      <th>hora_UTC</th>\n",
              "      <th>origen</th>\n",
              "      <th>destino</th>\n",
              "      <th>clase_vuelo</th>\n",
              "      <th>clasificacion_vuelo</th>\n",
              "      <th>aeropuerto</th>\n",
              "      <th>aerolinea_nombre</th>\n",
              "      <th>aeronave</th>\n",
              "      <th>pasajeros</th>\n",
              "      <th>calidad_dato</th>\n",
              "      <th>fecha2</th>\n",
              "    </tr>\n",
              "  </thead>\n",
              "  <tbody>\n",
              "    <tr>\n",
              "      <th>0</th>\n",
              "      <td>2021-01-01</td>\n",
              "      <td>00:02</td>\n",
              "      <td>PAR</td>\n",
              "      <td>ROS</td>\n",
              "      <td>Vuelo Privado con Matrícula Nacional</td>\n",
              "      <td>Dom</td>\n",
              "      <td>PAR</td>\n",
              "      <td>0</td>\n",
              "      <td>PA-PA-28-181</td>\n",
              "      <td>0</td>\n",
              "      <td>DEFINITIVO</td>\n",
              "      <td>01/01/21</td>\n",
              "    </tr>\n",
              "    <tr>\n",
              "      <th>1</th>\n",
              "      <td>2021-01-01</td>\n",
              "      <td>00:24</td>\n",
              "      <td>GRA</td>\n",
              "      <td>EZE</td>\n",
              "      <td>Regular</td>\n",
              "      <td>Dom</td>\n",
              "      <td>EZE</td>\n",
              "      <td>AEROLINEAS ARGENTINAS SA</td>\n",
              "      <td>BO-B737-8MB</td>\n",
              "      <td>70</td>\n",
              "      <td>DEFINITIVO</td>\n",
              "      <td>01/01/21</td>\n",
              "    </tr>\n",
              "    <tr>\n",
              "      <th>2</th>\n",
              "      <td>2021-01-01</td>\n",
              "      <td>00:26</td>\n",
              "      <td>ECA</td>\n",
              "      <td>EZE</td>\n",
              "      <td>Regular</td>\n",
              "      <td>Dom</td>\n",
              "      <td>EZE</td>\n",
              "      <td>AEROLINEAS ARGENTINAS SA</td>\n",
              "      <td>BO-737-800</td>\n",
              "      <td>70</td>\n",
              "      <td>DEFINITIVO</td>\n",
              "      <td>01/01/21</td>\n",
              "    </tr>\n",
              "    <tr>\n",
              "      <th>3</th>\n",
              "      <td>2021-01-01</td>\n",
              "      <td>00:29</td>\n",
              "      <td>SAL</td>\n",
              "      <td>EZE</td>\n",
              "      <td>Regular</td>\n",
              "      <td>Dom</td>\n",
              "      <td>EZE</td>\n",
              "      <td>AEROLINEAS ARGENTINAS SA</td>\n",
              "      <td>BO-B-737-76N</td>\n",
              "      <td>12</td>\n",
              "      <td>DEFINITIVO</td>\n",
              "      <td>01/01/21</td>\n",
              "    </tr>\n",
              "    <tr>\n",
              "      <th>4</th>\n",
              "      <td>2021-01-01</td>\n",
              "      <td>00:37</td>\n",
              "      <td>TUC</td>\n",
              "      <td>EZE</td>\n",
              "      <td>Regular</td>\n",
              "      <td>Dom</td>\n",
              "      <td>EZE</td>\n",
              "      <td>AEROLINEAS ARGENTINAS SA</td>\n",
              "      <td>EMB-ERJ190100IGW</td>\n",
              "      <td>26</td>\n",
              "      <td>DEFINITIVO</td>\n",
              "      <td>01/01/21</td>\n",
              "    </tr>\n",
              "    <tr>\n",
              "      <th>...</th>\n",
              "      <td>...</td>\n",
              "      <td>...</td>\n",
              "      <td>...</td>\n",
              "      <td>...</td>\n",
              "      <td>...</td>\n",
              "      <td>...</td>\n",
              "      <td>...</td>\n",
              "      <td>...</td>\n",
              "      <td>...</td>\n",
              "      <td>...</td>\n",
              "      <td>...</td>\n",
              "      <td>...</td>\n",
              "    </tr>\n",
              "    <tr>\n",
              "      <th>219798</th>\n",
              "      <td>2021-09-30</td>\n",
              "      <td>23:56</td>\n",
              "      <td>USU</td>\n",
              "      <td>AER</td>\n",
              "      <td>Regular</td>\n",
              "      <td>Dom</td>\n",
              "      <td>USU</td>\n",
              "      <td>AEROLINEAS ARGENTINAS SA</td>\n",
              "      <td>BO-B737-8</td>\n",
              "      <td>86</td>\n",
              "      <td>PROVISORIO</td>\n",
              "      <td>30/09/21</td>\n",
              "    </tr>\n",
              "    <tr>\n",
              "      <th>219799</th>\n",
              "      <td>2021-09-30</td>\n",
              "      <td>23:57</td>\n",
              "      <td>BAR</td>\n",
              "      <td>AER</td>\n",
              "      <td>Regular</td>\n",
              "      <td>Dom</td>\n",
              "      <td>AER</td>\n",
              "      <td>AEROLINEAS ARGENTINAS SA</td>\n",
              "      <td>BO-737-800</td>\n",
              "      <td>86</td>\n",
              "      <td>PROVISORIO</td>\n",
              "      <td>30/09/21</td>\n",
              "    </tr>\n",
              "    <tr>\n",
              "      <th>219800</th>\n",
              "      <td>2021-09-30</td>\n",
              "      <td>23:57</td>\n",
              "      <td>AER</td>\n",
              "      <td>BAR</td>\n",
              "      <td>Regular</td>\n",
              "      <td>Dom</td>\n",
              "      <td>BAR</td>\n",
              "      <td>JETSMART AIRLINES S.A.</td>\n",
              "      <td>AIB-A320-232</td>\n",
              "      <td>92</td>\n",
              "      <td>PROVISORIO</td>\n",
              "      <td>30/09/21</td>\n",
              "    </tr>\n",
              "    <tr>\n",
              "      <th>219801</th>\n",
              "      <td>2021-09-30</td>\n",
              "      <td>23:59</td>\n",
              "      <td>AER</td>\n",
              "      <td>CRV</td>\n",
              "      <td>Regular</td>\n",
              "      <td>Dom</td>\n",
              "      <td>CRV</td>\n",
              "      <td>AEROLINEAS ARGENTINAS SA</td>\n",
              "      <td>BO-B737-800</td>\n",
              "      <td>59</td>\n",
              "      <td>PROVISORIO</td>\n",
              "      <td>30/09/21</td>\n",
              "    </tr>\n",
              "    <tr>\n",
              "      <th>219802</th>\n",
              "      <td>2021-09-30</td>\n",
              "      <td>23:59</td>\n",
              "      <td>POS</td>\n",
              "      <td>AER</td>\n",
              "      <td>Regular</td>\n",
              "      <td>Dom</td>\n",
              "      <td>POS</td>\n",
              "      <td>AEROLINEAS ARGENTINAS SA</td>\n",
              "      <td>EMB-ERJ190100IGW</td>\n",
              "      <td>46</td>\n",
              "      <td>PROVISORIO</td>\n",
              "      <td>30/09/21</td>\n",
              "    </tr>\n",
              "  </tbody>\n",
              "</table>\n",
              "<p>177204 rows × 12 columns</p>\n",
              "</div>"
            ],
            "text/plain": [
              "            fecha hora_UTC origen  ... pasajeros calidad_dato    fecha2\n",
              "0      2021-01-01    00:02    PAR  ...         0   DEFINITIVO  01/01/21\n",
              "1      2021-01-01    00:24    GRA  ...        70   DEFINITIVO  01/01/21\n",
              "2      2021-01-01    00:26    ECA  ...        70   DEFINITIVO  01/01/21\n",
              "3      2021-01-01    00:29    SAL  ...        12   DEFINITIVO  01/01/21\n",
              "4      2021-01-01    00:37    TUC  ...        26   DEFINITIVO  01/01/21\n",
              "...           ...      ...    ...  ...       ...          ...       ...\n",
              "219798 2021-09-30    23:56    USU  ...        86   PROVISORIO  30/09/21\n",
              "219799 2021-09-30    23:57    BAR  ...        86   PROVISORIO  30/09/21\n",
              "219800 2021-09-30    23:57    AER  ...        92   PROVISORIO  30/09/21\n",
              "219801 2021-09-30    23:59    AER  ...        59   PROVISORIO  30/09/21\n",
              "219802 2021-09-30    23:59    POS  ...        46   PROVISORIO  30/09/21\n",
              "\n",
              "[177204 rows x 12 columns]"
            ]
          },
          "metadata": {},
          "execution_count": 208
        }
      ]
    },
    {
      "cell_type": "code",
      "metadata": {
        "id": "OzJUZNHi_6Pc",
        "colab": {
          "base_uri": "https://localhost:8080/",
          "height": 597
        },
        "outputId": "4978adfe-b745-42ea-ab3b-7629d790820b"
      },
      "source": [
        "#creamos columna ANIO\n",
        "df.fecha2 = pd.to_datetime(df.fecha2)\n",
        "df['anio'] = df.fecha2.dt.year\n",
        "\n",
        "#creamos columna MES\n",
        "df.fecha2 = pd.to_datetime(df.fecha2)\n",
        "df['mes'] = df.fecha2.dt.month\n",
        "df_agrupado = df.groupby('mes')\n",
        "\n",
        "df_agrupado.head(1200000)"
      ],
      "execution_count": null,
      "outputs": [
        {
          "output_type": "execute_result",
          "data": {
            "text/html": [
              "<div>\n",
              "<style scoped>\n",
              "    .dataframe tbody tr th:only-of-type {\n",
              "        vertical-align: middle;\n",
              "    }\n",
              "\n",
              "    .dataframe tbody tr th {\n",
              "        vertical-align: top;\n",
              "    }\n",
              "\n",
              "    .dataframe thead th {\n",
              "        text-align: right;\n",
              "    }\n",
              "</style>\n",
              "<table border=\"1\" class=\"dataframe\">\n",
              "  <thead>\n",
              "    <tr style=\"text-align: right;\">\n",
              "      <th></th>\n",
              "      <th>fecha</th>\n",
              "      <th>hora_UTC</th>\n",
              "      <th>origen</th>\n",
              "      <th>destino</th>\n",
              "      <th>clase_vuelo</th>\n",
              "      <th>clasificacion_vuelo</th>\n",
              "      <th>aeropuerto</th>\n",
              "      <th>aerolinea_nombre</th>\n",
              "      <th>aeronave</th>\n",
              "      <th>pasajeros</th>\n",
              "      <th>calidad_dato</th>\n",
              "      <th>fecha2</th>\n",
              "      <th>anio</th>\n",
              "      <th>mes</th>\n",
              "    </tr>\n",
              "  </thead>\n",
              "  <tbody>\n",
              "    <tr>\n",
              "      <th>0</th>\n",
              "      <td>2021-01-01</td>\n",
              "      <td>00:02</td>\n",
              "      <td>PAR</td>\n",
              "      <td>ROS</td>\n",
              "      <td>Vuelo Privado con Matrícula Nacional</td>\n",
              "      <td>Dom</td>\n",
              "      <td>PAR</td>\n",
              "      <td>0</td>\n",
              "      <td>PA-PA-28-181</td>\n",
              "      <td>0</td>\n",
              "      <td>DEFINITIVO</td>\n",
              "      <td>2021-01-01</td>\n",
              "      <td>2021</td>\n",
              "      <td>1</td>\n",
              "    </tr>\n",
              "    <tr>\n",
              "      <th>1</th>\n",
              "      <td>2021-01-01</td>\n",
              "      <td>00:24</td>\n",
              "      <td>GRA</td>\n",
              "      <td>EZE</td>\n",
              "      <td>Regular</td>\n",
              "      <td>Dom</td>\n",
              "      <td>EZE</td>\n",
              "      <td>AEROLINEAS ARGENTINAS SA</td>\n",
              "      <td>BO-B737-8MB</td>\n",
              "      <td>70</td>\n",
              "      <td>DEFINITIVO</td>\n",
              "      <td>2021-01-01</td>\n",
              "      <td>2021</td>\n",
              "      <td>1</td>\n",
              "    </tr>\n",
              "    <tr>\n",
              "      <th>2</th>\n",
              "      <td>2021-01-01</td>\n",
              "      <td>00:26</td>\n",
              "      <td>ECA</td>\n",
              "      <td>EZE</td>\n",
              "      <td>Regular</td>\n",
              "      <td>Dom</td>\n",
              "      <td>EZE</td>\n",
              "      <td>AEROLINEAS ARGENTINAS SA</td>\n",
              "      <td>BO-737-800</td>\n",
              "      <td>70</td>\n",
              "      <td>DEFINITIVO</td>\n",
              "      <td>2021-01-01</td>\n",
              "      <td>2021</td>\n",
              "      <td>1</td>\n",
              "    </tr>\n",
              "    <tr>\n",
              "      <th>3</th>\n",
              "      <td>2021-01-01</td>\n",
              "      <td>00:29</td>\n",
              "      <td>SAL</td>\n",
              "      <td>EZE</td>\n",
              "      <td>Regular</td>\n",
              "      <td>Dom</td>\n",
              "      <td>EZE</td>\n",
              "      <td>AEROLINEAS ARGENTINAS SA</td>\n",
              "      <td>BO-B-737-76N</td>\n",
              "      <td>12</td>\n",
              "      <td>DEFINITIVO</td>\n",
              "      <td>2021-01-01</td>\n",
              "      <td>2021</td>\n",
              "      <td>1</td>\n",
              "    </tr>\n",
              "    <tr>\n",
              "      <th>4</th>\n",
              "      <td>2021-01-01</td>\n",
              "      <td>00:37</td>\n",
              "      <td>TUC</td>\n",
              "      <td>EZE</td>\n",
              "      <td>Regular</td>\n",
              "      <td>Dom</td>\n",
              "      <td>EZE</td>\n",
              "      <td>AEROLINEAS ARGENTINAS SA</td>\n",
              "      <td>EMB-ERJ190100IGW</td>\n",
              "      <td>26</td>\n",
              "      <td>DEFINITIVO</td>\n",
              "      <td>2021-01-01</td>\n",
              "      <td>2021</td>\n",
              "      <td>1</td>\n",
              "    </tr>\n",
              "    <tr>\n",
              "      <th>...</th>\n",
              "      <td>...</td>\n",
              "      <td>...</td>\n",
              "      <td>...</td>\n",
              "      <td>...</td>\n",
              "      <td>...</td>\n",
              "      <td>...</td>\n",
              "      <td>...</td>\n",
              "      <td>...</td>\n",
              "      <td>...</td>\n",
              "      <td>...</td>\n",
              "      <td>...</td>\n",
              "      <td>...</td>\n",
              "      <td>...</td>\n",
              "      <td>...</td>\n",
              "    </tr>\n",
              "    <tr>\n",
              "      <th>219798</th>\n",
              "      <td>2021-09-30</td>\n",
              "      <td>23:56</td>\n",
              "      <td>USU</td>\n",
              "      <td>AER</td>\n",
              "      <td>Regular</td>\n",
              "      <td>Dom</td>\n",
              "      <td>USU</td>\n",
              "      <td>AEROLINEAS ARGENTINAS SA</td>\n",
              "      <td>BO-B737-8</td>\n",
              "      <td>86</td>\n",
              "      <td>PROVISORIO</td>\n",
              "      <td>2021-09-30</td>\n",
              "      <td>2021</td>\n",
              "      <td>9</td>\n",
              "    </tr>\n",
              "    <tr>\n",
              "      <th>219799</th>\n",
              "      <td>2021-09-30</td>\n",
              "      <td>23:57</td>\n",
              "      <td>BAR</td>\n",
              "      <td>AER</td>\n",
              "      <td>Regular</td>\n",
              "      <td>Dom</td>\n",
              "      <td>AER</td>\n",
              "      <td>AEROLINEAS ARGENTINAS SA</td>\n",
              "      <td>BO-737-800</td>\n",
              "      <td>86</td>\n",
              "      <td>PROVISORIO</td>\n",
              "      <td>2021-09-30</td>\n",
              "      <td>2021</td>\n",
              "      <td>9</td>\n",
              "    </tr>\n",
              "    <tr>\n",
              "      <th>219800</th>\n",
              "      <td>2021-09-30</td>\n",
              "      <td>23:57</td>\n",
              "      <td>AER</td>\n",
              "      <td>BAR</td>\n",
              "      <td>Regular</td>\n",
              "      <td>Dom</td>\n",
              "      <td>BAR</td>\n",
              "      <td>JETSMART AIRLINES S.A.</td>\n",
              "      <td>AIB-A320-232</td>\n",
              "      <td>92</td>\n",
              "      <td>PROVISORIO</td>\n",
              "      <td>2021-09-30</td>\n",
              "      <td>2021</td>\n",
              "      <td>9</td>\n",
              "    </tr>\n",
              "    <tr>\n",
              "      <th>219801</th>\n",
              "      <td>2021-09-30</td>\n",
              "      <td>23:59</td>\n",
              "      <td>AER</td>\n",
              "      <td>CRV</td>\n",
              "      <td>Regular</td>\n",
              "      <td>Dom</td>\n",
              "      <td>CRV</td>\n",
              "      <td>AEROLINEAS ARGENTINAS SA</td>\n",
              "      <td>BO-B737-800</td>\n",
              "      <td>59</td>\n",
              "      <td>PROVISORIO</td>\n",
              "      <td>2021-09-30</td>\n",
              "      <td>2021</td>\n",
              "      <td>9</td>\n",
              "    </tr>\n",
              "    <tr>\n",
              "      <th>219802</th>\n",
              "      <td>2021-09-30</td>\n",
              "      <td>23:59</td>\n",
              "      <td>POS</td>\n",
              "      <td>AER</td>\n",
              "      <td>Regular</td>\n",
              "      <td>Dom</td>\n",
              "      <td>POS</td>\n",
              "      <td>AEROLINEAS ARGENTINAS SA</td>\n",
              "      <td>EMB-ERJ190100IGW</td>\n",
              "      <td>46</td>\n",
              "      <td>PROVISORIO</td>\n",
              "      <td>2021-09-30</td>\n",
              "      <td>2021</td>\n",
              "      <td>9</td>\n",
              "    </tr>\n",
              "  </tbody>\n",
              "</table>\n",
              "<p>177204 rows × 14 columns</p>\n",
              "</div>"
            ],
            "text/plain": [
              "            fecha hora_UTC origen destino  ... calidad_dato     fecha2  anio mes\n",
              "0      2021-01-01    00:02    PAR     ROS  ...   DEFINITIVO 2021-01-01  2021   1\n",
              "1      2021-01-01    00:24    GRA     EZE  ...   DEFINITIVO 2021-01-01  2021   1\n",
              "2      2021-01-01    00:26    ECA     EZE  ...   DEFINITIVO 2021-01-01  2021   1\n",
              "3      2021-01-01    00:29    SAL     EZE  ...   DEFINITIVO 2021-01-01  2021   1\n",
              "4      2021-01-01    00:37    TUC     EZE  ...   DEFINITIVO 2021-01-01  2021   1\n",
              "...           ...      ...    ...     ...  ...          ...        ...   ...  ..\n",
              "219798 2021-09-30    23:56    USU     AER  ...   PROVISORIO 2021-09-30  2021   9\n",
              "219799 2021-09-30    23:57    BAR     AER  ...   PROVISORIO 2021-09-30  2021   9\n",
              "219800 2021-09-30    23:57    AER     BAR  ...   PROVISORIO 2021-09-30  2021   9\n",
              "219801 2021-09-30    23:59    AER     CRV  ...   PROVISORIO 2021-09-30  2021   9\n",
              "219802 2021-09-30    23:59    POS     AER  ...   PROVISORIO 2021-09-30  2021   9\n",
              "\n",
              "[177204 rows x 14 columns]"
            ]
          },
          "metadata": {},
          "execution_count": 209
        }
      ]
    },
    {
      "cell_type": "code",
      "metadata": {
        "id": "63xy8HabB6ay",
        "colab": {
          "base_uri": "https://localhost:8080/",
          "height": 597
        },
        "outputId": "dd1d0ea5-a62e-4108-b0b5-e8a66e4c79f6"
      },
      "source": [
        "#SACO EL DIA DE LA FECHA Y DEJO SOLO ANIO/MES\n",
        "\n",
        "df.fecha2 = pd.to_datetime(df.fecha).dt.strftime('%m/%Y')\n",
        "df.head(2000000)"
      ],
      "execution_count": null,
      "outputs": [
        {
          "output_type": "execute_result",
          "data": {
            "text/html": [
              "<div>\n",
              "<style scoped>\n",
              "    .dataframe tbody tr th:only-of-type {\n",
              "        vertical-align: middle;\n",
              "    }\n",
              "\n",
              "    .dataframe tbody tr th {\n",
              "        vertical-align: top;\n",
              "    }\n",
              "\n",
              "    .dataframe thead th {\n",
              "        text-align: right;\n",
              "    }\n",
              "</style>\n",
              "<table border=\"1\" class=\"dataframe\">\n",
              "  <thead>\n",
              "    <tr style=\"text-align: right;\">\n",
              "      <th></th>\n",
              "      <th>fecha</th>\n",
              "      <th>hora_UTC</th>\n",
              "      <th>origen</th>\n",
              "      <th>destino</th>\n",
              "      <th>clase_vuelo</th>\n",
              "      <th>clasificacion_vuelo</th>\n",
              "      <th>aeropuerto</th>\n",
              "      <th>aerolinea_nombre</th>\n",
              "      <th>aeronave</th>\n",
              "      <th>pasajeros</th>\n",
              "      <th>calidad_dato</th>\n",
              "      <th>fecha2</th>\n",
              "      <th>anio</th>\n",
              "      <th>mes</th>\n",
              "    </tr>\n",
              "  </thead>\n",
              "  <tbody>\n",
              "    <tr>\n",
              "      <th>0</th>\n",
              "      <td>2021-01-01</td>\n",
              "      <td>00:02</td>\n",
              "      <td>PAR</td>\n",
              "      <td>ROS</td>\n",
              "      <td>Vuelo Privado con Matrícula Nacional</td>\n",
              "      <td>Dom</td>\n",
              "      <td>PAR</td>\n",
              "      <td>0</td>\n",
              "      <td>PA-PA-28-181</td>\n",
              "      <td>0</td>\n",
              "      <td>DEFINITIVO</td>\n",
              "      <td>01/2021</td>\n",
              "      <td>2021</td>\n",
              "      <td>1</td>\n",
              "    </tr>\n",
              "    <tr>\n",
              "      <th>1</th>\n",
              "      <td>2021-01-01</td>\n",
              "      <td>00:24</td>\n",
              "      <td>GRA</td>\n",
              "      <td>EZE</td>\n",
              "      <td>Regular</td>\n",
              "      <td>Dom</td>\n",
              "      <td>EZE</td>\n",
              "      <td>AEROLINEAS ARGENTINAS SA</td>\n",
              "      <td>BO-B737-8MB</td>\n",
              "      <td>70</td>\n",
              "      <td>DEFINITIVO</td>\n",
              "      <td>01/2021</td>\n",
              "      <td>2021</td>\n",
              "      <td>1</td>\n",
              "    </tr>\n",
              "    <tr>\n",
              "      <th>2</th>\n",
              "      <td>2021-01-01</td>\n",
              "      <td>00:26</td>\n",
              "      <td>ECA</td>\n",
              "      <td>EZE</td>\n",
              "      <td>Regular</td>\n",
              "      <td>Dom</td>\n",
              "      <td>EZE</td>\n",
              "      <td>AEROLINEAS ARGENTINAS SA</td>\n",
              "      <td>BO-737-800</td>\n",
              "      <td>70</td>\n",
              "      <td>DEFINITIVO</td>\n",
              "      <td>01/2021</td>\n",
              "      <td>2021</td>\n",
              "      <td>1</td>\n",
              "    </tr>\n",
              "    <tr>\n",
              "      <th>3</th>\n",
              "      <td>2021-01-01</td>\n",
              "      <td>00:29</td>\n",
              "      <td>SAL</td>\n",
              "      <td>EZE</td>\n",
              "      <td>Regular</td>\n",
              "      <td>Dom</td>\n",
              "      <td>EZE</td>\n",
              "      <td>AEROLINEAS ARGENTINAS SA</td>\n",
              "      <td>BO-B-737-76N</td>\n",
              "      <td>12</td>\n",
              "      <td>DEFINITIVO</td>\n",
              "      <td>01/2021</td>\n",
              "      <td>2021</td>\n",
              "      <td>1</td>\n",
              "    </tr>\n",
              "    <tr>\n",
              "      <th>4</th>\n",
              "      <td>2021-01-01</td>\n",
              "      <td>00:37</td>\n",
              "      <td>TUC</td>\n",
              "      <td>EZE</td>\n",
              "      <td>Regular</td>\n",
              "      <td>Dom</td>\n",
              "      <td>EZE</td>\n",
              "      <td>AEROLINEAS ARGENTINAS SA</td>\n",
              "      <td>EMB-ERJ190100IGW</td>\n",
              "      <td>26</td>\n",
              "      <td>DEFINITIVO</td>\n",
              "      <td>01/2021</td>\n",
              "      <td>2021</td>\n",
              "      <td>1</td>\n",
              "    </tr>\n",
              "    <tr>\n",
              "      <th>...</th>\n",
              "      <td>...</td>\n",
              "      <td>...</td>\n",
              "      <td>...</td>\n",
              "      <td>...</td>\n",
              "      <td>...</td>\n",
              "      <td>...</td>\n",
              "      <td>...</td>\n",
              "      <td>...</td>\n",
              "      <td>...</td>\n",
              "      <td>...</td>\n",
              "      <td>...</td>\n",
              "      <td>...</td>\n",
              "      <td>...</td>\n",
              "      <td>...</td>\n",
              "    </tr>\n",
              "    <tr>\n",
              "      <th>219798</th>\n",
              "      <td>2021-09-30</td>\n",
              "      <td>23:56</td>\n",
              "      <td>USU</td>\n",
              "      <td>AER</td>\n",
              "      <td>Regular</td>\n",
              "      <td>Dom</td>\n",
              "      <td>USU</td>\n",
              "      <td>AEROLINEAS ARGENTINAS SA</td>\n",
              "      <td>BO-B737-8</td>\n",
              "      <td>86</td>\n",
              "      <td>PROVISORIO</td>\n",
              "      <td>09/2021</td>\n",
              "      <td>2021</td>\n",
              "      <td>9</td>\n",
              "    </tr>\n",
              "    <tr>\n",
              "      <th>219799</th>\n",
              "      <td>2021-09-30</td>\n",
              "      <td>23:57</td>\n",
              "      <td>BAR</td>\n",
              "      <td>AER</td>\n",
              "      <td>Regular</td>\n",
              "      <td>Dom</td>\n",
              "      <td>AER</td>\n",
              "      <td>AEROLINEAS ARGENTINAS SA</td>\n",
              "      <td>BO-737-800</td>\n",
              "      <td>86</td>\n",
              "      <td>PROVISORIO</td>\n",
              "      <td>09/2021</td>\n",
              "      <td>2021</td>\n",
              "      <td>9</td>\n",
              "    </tr>\n",
              "    <tr>\n",
              "      <th>219800</th>\n",
              "      <td>2021-09-30</td>\n",
              "      <td>23:57</td>\n",
              "      <td>AER</td>\n",
              "      <td>BAR</td>\n",
              "      <td>Regular</td>\n",
              "      <td>Dom</td>\n",
              "      <td>BAR</td>\n",
              "      <td>JETSMART AIRLINES S.A.</td>\n",
              "      <td>AIB-A320-232</td>\n",
              "      <td>92</td>\n",
              "      <td>PROVISORIO</td>\n",
              "      <td>09/2021</td>\n",
              "      <td>2021</td>\n",
              "      <td>9</td>\n",
              "    </tr>\n",
              "    <tr>\n",
              "      <th>219801</th>\n",
              "      <td>2021-09-30</td>\n",
              "      <td>23:59</td>\n",
              "      <td>AER</td>\n",
              "      <td>CRV</td>\n",
              "      <td>Regular</td>\n",
              "      <td>Dom</td>\n",
              "      <td>CRV</td>\n",
              "      <td>AEROLINEAS ARGENTINAS SA</td>\n",
              "      <td>BO-B737-800</td>\n",
              "      <td>59</td>\n",
              "      <td>PROVISORIO</td>\n",
              "      <td>09/2021</td>\n",
              "      <td>2021</td>\n",
              "      <td>9</td>\n",
              "    </tr>\n",
              "    <tr>\n",
              "      <th>219802</th>\n",
              "      <td>2021-09-30</td>\n",
              "      <td>23:59</td>\n",
              "      <td>POS</td>\n",
              "      <td>AER</td>\n",
              "      <td>Regular</td>\n",
              "      <td>Dom</td>\n",
              "      <td>POS</td>\n",
              "      <td>AEROLINEAS ARGENTINAS SA</td>\n",
              "      <td>EMB-ERJ190100IGW</td>\n",
              "      <td>46</td>\n",
              "      <td>PROVISORIO</td>\n",
              "      <td>09/2021</td>\n",
              "      <td>2021</td>\n",
              "      <td>9</td>\n",
              "    </tr>\n",
              "  </tbody>\n",
              "</table>\n",
              "<p>177204 rows × 14 columns</p>\n",
              "</div>"
            ],
            "text/plain": [
              "            fecha hora_UTC origen destino  ... calidad_dato   fecha2  anio mes\n",
              "0      2021-01-01    00:02    PAR     ROS  ...   DEFINITIVO  01/2021  2021   1\n",
              "1      2021-01-01    00:24    GRA     EZE  ...   DEFINITIVO  01/2021  2021   1\n",
              "2      2021-01-01    00:26    ECA     EZE  ...   DEFINITIVO  01/2021  2021   1\n",
              "3      2021-01-01    00:29    SAL     EZE  ...   DEFINITIVO  01/2021  2021   1\n",
              "4      2021-01-01    00:37    TUC     EZE  ...   DEFINITIVO  01/2021  2021   1\n",
              "...           ...      ...    ...     ...  ...          ...      ...   ...  ..\n",
              "219798 2021-09-30    23:56    USU     AER  ...   PROVISORIO  09/2021  2021   9\n",
              "219799 2021-09-30    23:57    BAR     AER  ...   PROVISORIO  09/2021  2021   9\n",
              "219800 2021-09-30    23:57    AER     BAR  ...   PROVISORIO  09/2021  2021   9\n",
              "219801 2021-09-30    23:59    AER     CRV  ...   PROVISORIO  09/2021  2021   9\n",
              "219802 2021-09-30    23:59    POS     AER  ...   PROVISORIO  09/2021  2021   9\n",
              "\n",
              "[177204 rows x 14 columns]"
            ]
          },
          "metadata": {},
          "execution_count": 210
        }
      ]
    },
    {
      "cell_type": "code",
      "metadata": {
        "id": "AmJRPpHYWF9F",
        "colab": {
          "base_uri": "https://localhost:8080/"
        },
        "outputId": "b2d52064-21cc-42e7-c2a6-f104d56e2e96"
      },
      "source": [
        "df['mes'].value_counts()"
      ],
      "execution_count": null,
      "outputs": [
        {
          "output_type": "execute_result",
          "data": {
            "text/plain": [
              "8    23522\n",
              "7    22266\n",
              "9    20842\n",
              "3    20822\n",
              "4    20166\n",
              "2    19493\n",
              "1    18765\n",
              "5    15928\n",
              "6    15400\n",
              "Name: mes, dtype: int64"
            ]
          },
          "metadata": {},
          "execution_count": 211
        }
      ]
    },
    {
      "cell_type": "markdown",
      "metadata": {
        "id": "W4UmmTKfhrTs"
      },
      "source": [
        "#EDA\n"
      ]
    },
    {
      "cell_type": "code",
      "metadata": {
        "id": "suZNgMrKhoAH",
        "colab": {
          "base_uri": "https://localhost:8080/",
          "height": 464
        },
        "outputId": "9516772b-cec0-4251-84b1-fcf50a8e9944"
      },
      "source": [
        "# veo cuánta cantidad de datos hay de cada Aeropuerto\n",
        "\n",
        "idx = df['aeropuerto'].value_counts(ascending=False).index[0:]\n",
        "sns.set_context(\"talk\", font_scale=.9)\n",
        "plt.figure(figsize=(20,6))\n",
        "j = sns.countplot(x=\"aeropuerto\", data=df, order=idx)\n",
        "plt.xticks(rotation=80)\n",
        "plt.title('Cantidad Vuelos por Localidad', size = 30)\n",
        "plt.xlabel(\"Localidad\", size = 25)\n",
        "plt.ylabel(\"Cantidades\", size = 25)\n",
        "plt.show()"
      ],
      "execution_count": null,
      "outputs": [
        {
          "output_type": "display_data",
          "data": {
            "image/png": "[encoded data removed]",
            "text/plain": [
              "<Figure size 1440x432 with 1 Axes>"
            ]
          },
          "metadata": {
            "needs_background": "light"
          }
        }
      ]
    },
    {
      "cell_type": "code",
      "metadata": {
        "id": "MDznPst4idIM",
        "colab": {
          "base_uri": "https://localhost:8080/"
        },
        "outputId": "f3101da1-9d3d-44e1-9133-ba9e3b5d937e"
      },
      "source": [
        "#agrupo por tipo de vuelo\n",
        "vuelos_portipo = df.groupby([\"clase_vuelo\"])[\"fecha\"].count()\n",
        "vuelos_portipo.head()"
      ],
      "execution_count": null,
      "outputs": [
        {
          "output_type": "execute_result",
          "data": {
            "text/plain": [
              "clase_vuelo\n",
              "No Regular                  18124\n",
              "Regular                     62594\n",
              "Trabajo Aéreo                 812\n",
              "Vuelo Escuela               46287\n",
              "Vuelo Oficial Extranjero       16\n",
              "Name: fecha, dtype: int64"
            ]
          },
          "metadata": {},
          "execution_count": 213
        }
      ]
    },
    {
      "cell_type": "code",
      "metadata": {
        "id": "mT_RIvALkUWi",
        "colab": {
          "base_uri": "https://localhost:8080/",
          "height": 651
        },
        "outputId": "6c3ee68a-c6b4-4832-eaa3-9492cab00fea"
      },
      "source": [
        "plt.figure(figsize=(8,5))\n",
        "vuelos_portipo.plot.bar(x=\"clase_vuelo\", y=\"fecha\")\n",
        "plt.xticks(rotation=80)\n",
        "plt.xlabel(\"Tipo de Vuelo\", size = 20)\n",
        "plt.ylabel(\"Cantidad\", size = 20)\n",
        "plt.title(\"Cantidad de vuelos por Tipo de Vuelo\", size = 25)\n",
        "plot_name = str(plot_path+'cant_vuelos_tipo_de_vuelo')\n",
        "plot_format = \".png\"\n",
        "plt.savefig(plot_name+plot_format,bbox_inches='tight')\n",
        "plt.show()"
      ],
      "execution_count": null,
      "outputs": [
        {
          "output_type": "display_data",
          "data": {
            "image/png": "[encoded data removed]",
            "text/plain": [
              "<Figure size 576x360 with 1 Axes>"
            ]
          },
          "metadata": {
            "needs_background": "light"
          }
        }
      ]
    },
    {
      "cell_type": "markdown",
      "metadata": {
        "id": "5xh6Kv_17vjL"
      },
      "source": [
        "# Analizamos Regular por ser el tipo de vuelo con mayor cantidad de vuelos "
      ]
    },
    {
      "cell_type": "code",
      "metadata": {
        "id": "--ZKsiuik6vD"
      },
      "source": [
        "clase_regular = df.loc[df['clase_vuelo'] == 'Regular']"
      ],
      "execution_count": null,
      "outputs": []
    },
    {
      "cell_type": "code",
      "metadata": {
        "id": "O8bVWKVv8J7j",
        "colab": {
          "base_uri": "https://localhost:8080/"
        },
        "outputId": "0fb11e26-bccb-4c6a-9c68-1eb10c479011"
      },
      "source": [
        "# observamos que la cantidad de renglones del nuevo dataframe es menor al del original, puesto que solo \n",
        "# estamos considerando los vuelos regulares\n",
        "np.shape(clase_regular)"
      ],
      "execution_count": null,
      "outputs": [
        {
          "output_type": "execute_result",
          "data": {
            "text/plain": [
              "(62594, 14)"
            ]
          },
          "metadata": {},
          "execution_count": 216
        }
      ]
    },
    {
      "cell_type": "code",
      "metadata": {
        "id": "_LZYI0pJ8SRQ",
        "colab": {
          "base_uri": "https://localhost:8080/",
          "height": 423
        },
        "outputId": "6cc52fc1-7759-4a7c-c3e4-003d0be4edff"
      },
      "source": [
        "clase_regular.head(200000)"
      ],
      "execution_count": null,
      "outputs": [
        {
          "output_type": "execute_result",
          "data": {
            "text/html": [
              "<div>\n",
              "<style scoped>\n",
              "    .dataframe tbody tr th:only-of-type {\n",
              "        vertical-align: middle;\n",
              "    }\n",
              "\n",
              "    .dataframe tbody tr th {\n",
              "        vertical-align: top;\n",
              "    }\n",
              "\n",
              "    .dataframe thead th {\n",
              "        text-align: right;\n",
              "    }\n",
              "</style>\n",
              "<table border=\"1\" class=\"dataframe\">\n",
              "  <thead>\n",
              "    <tr style=\"text-align: right;\">\n",
              "      <th></th>\n",
              "      <th>fecha</th>\n",
              "      <th>hora_UTC</th>\n",
              "      <th>origen</th>\n",
              "      <th>destino</th>\n",
              "      <th>clase_vuelo</th>\n",
              "      <th>clasificacion_vuelo</th>\n",
              "      <th>aeropuerto</th>\n",
              "      <th>aerolinea_nombre</th>\n",
              "      <th>aeronave</th>\n",
              "      <th>pasajeros</th>\n",
              "      <th>calidad_dato</th>\n",
              "      <th>fecha2</th>\n",
              "      <th>anio</th>\n",
              "      <th>mes</th>\n",
              "    </tr>\n",
              "  </thead>\n",
              "  <tbody>\n",
              "    <tr>\n",
              "      <th>1</th>\n",
              "      <td>2021-01-01</td>\n",
              "      <td>00:24</td>\n",
              "      <td>GRA</td>\n",
              "      <td>EZE</td>\n",
              "      <td>Regular</td>\n",
              "      <td>Dom</td>\n",
              "      <td>EZE</td>\n",
              "      <td>AEROLINEAS ARGENTINAS SA</td>\n",
              "      <td>BO-B737-8MB</td>\n",
              "      <td>70</td>\n",
              "      <td>DEFINITIVO</td>\n",
              "      <td>01/2021</td>\n",
              "      <td>2021</td>\n",
              "      <td>1</td>\n",
              "    </tr>\n",
              "    <tr>\n",
              "      <th>2</th>\n",
              "      <td>2021-01-01</td>\n",
              "      <td>00:26</td>\n",
              "      <td>ECA</td>\n",
              "      <td>EZE</td>\n",
              "      <td>Regular</td>\n",
              "      <td>Dom</td>\n",
              "      <td>EZE</td>\n",
              "      <td>AEROLINEAS ARGENTINAS SA</td>\n",
              "      <td>BO-737-800</td>\n",
              "      <td>70</td>\n",
              "      <td>DEFINITIVO</td>\n",
              "      <td>01/2021</td>\n",
              "      <td>2021</td>\n",
              "      <td>1</td>\n",
              "    </tr>\n",
              "    <tr>\n",
              "      <th>3</th>\n",
              "      <td>2021-01-01</td>\n",
              "      <td>00:29</td>\n",
              "      <td>SAL</td>\n",
              "      <td>EZE</td>\n",
              "      <td>Regular</td>\n",
              "      <td>Dom</td>\n",
              "      <td>EZE</td>\n",
              "      <td>AEROLINEAS ARGENTINAS SA</td>\n",
              "      <td>BO-B-737-76N</td>\n",
              "      <td>12</td>\n",
              "      <td>DEFINITIVO</td>\n",
              "      <td>01/2021</td>\n",
              "      <td>2021</td>\n",
              "      <td>1</td>\n",
              "    </tr>\n",
              "    <tr>\n",
              "      <th>4</th>\n",
              "      <td>2021-01-01</td>\n",
              "      <td>00:37</td>\n",
              "      <td>TUC</td>\n",
              "      <td>EZE</td>\n",
              "      <td>Regular</td>\n",
              "      <td>Dom</td>\n",
              "      <td>EZE</td>\n",
              "      <td>AEROLINEAS ARGENTINAS SA</td>\n",
              "      <td>EMB-ERJ190100IGW</td>\n",
              "      <td>26</td>\n",
              "      <td>DEFINITIVO</td>\n",
              "      <td>01/2021</td>\n",
              "      <td>2021</td>\n",
              "      <td>1</td>\n",
              "    </tr>\n",
              "    <tr>\n",
              "      <th>15</th>\n",
              "      <td>2021-01-01</td>\n",
              "      <td>07:09</td>\n",
              "      <td>EZE</td>\n",
              "      <td>ECA</td>\n",
              "      <td>Regular</td>\n",
              "      <td>Dom</td>\n",
              "      <td>EZE</td>\n",
              "      <td>AEROLINEAS ARGENTINAS SA</td>\n",
              "      <td>BO-B737-800</td>\n",
              "      <td>35</td>\n",
              "      <td>DEFINITIVO</td>\n",
              "      <td>01/2021</td>\n",
              "      <td>2021</td>\n",
              "      <td>1</td>\n",
              "    </tr>\n",
              "    <tr>\n",
              "      <th>...</th>\n",
              "      <td>...</td>\n",
              "      <td>...</td>\n",
              "      <td>...</td>\n",
              "      <td>...</td>\n",
              "      <td>...</td>\n",
              "      <td>...</td>\n",
              "      <td>...</td>\n",
              "      <td>...</td>\n",
              "      <td>...</td>\n",
              "      <td>...</td>\n",
              "      <td>...</td>\n",
              "      <td>...</td>\n",
              "      <td>...</td>\n",
              "      <td>...</td>\n",
              "    </tr>\n",
              "    <tr>\n",
              "      <th>219798</th>\n",
              "      <td>2021-09-30</td>\n",
              "      <td>23:56</td>\n",
              "      <td>USU</td>\n",
              "      <td>AER</td>\n",
              "      <td>Regular</td>\n",
              "      <td>Dom</td>\n",
              "      <td>USU</td>\n",
              "      <td>AEROLINEAS ARGENTINAS SA</td>\n",
              "      <td>BO-B737-8</td>\n",
              "      <td>86</td>\n",
              "      <td>PROVISORIO</td>\n",
              "      <td>09/2021</td>\n",
              "      <td>2021</td>\n",
              "      <td>9</td>\n",
              "    </tr>\n",
              "    <tr>\n",
              "      <th>219799</th>\n",
              "      <td>2021-09-30</td>\n",
              "      <td>23:57</td>\n",
              "      <td>BAR</td>\n",
              "      <td>AER</td>\n",
              "      <td>Regular</td>\n",
              "      <td>Dom</td>\n",
              "      <td>AER</td>\n",
              "      <td>AEROLINEAS ARGENTINAS SA</td>\n",
              "      <td>BO-737-800</td>\n",
              "      <td>86</td>\n",
              "      <td>PROVISORIO</td>\n",
              "      <td>09/2021</td>\n",
              "      <td>2021</td>\n",
              "      <td>9</td>\n",
              "    </tr>\n",
              "    <tr>\n",
              "      <th>219800</th>\n",
              "      <td>2021-09-30</td>\n",
              "      <td>23:57</td>\n",
              "      <td>AER</td>\n",
              "      <td>BAR</td>\n",
              "      <td>Regular</td>\n",
              "      <td>Dom</td>\n",
              "      <td>BAR</td>\n",
              "      <td>JETSMART AIRLINES S.A.</td>\n",
              "      <td>AIB-A320-232</td>\n",
              "      <td>92</td>\n",
              "      <td>PROVISORIO</td>\n",
              "      <td>09/2021</td>\n",
              "      <td>2021</td>\n",
              "      <td>9</td>\n",
              "    </tr>\n",
              "    <tr>\n",
              "      <th>219801</th>\n",
              "      <td>2021-09-30</td>\n",
              "      <td>23:59</td>\n",
              "      <td>AER</td>\n",
              "      <td>CRV</td>\n",
              "      <td>Regular</td>\n",
              "      <td>Dom</td>\n",
              "      <td>CRV</td>\n",
              "      <td>AEROLINEAS ARGENTINAS SA</td>\n",
              "      <td>BO-B737-800</td>\n",
              "      <td>59</td>\n",
              "      <td>PROVISORIO</td>\n",
              "      <td>09/2021</td>\n",
              "      <td>2021</td>\n",
              "      <td>9</td>\n",
              "    </tr>\n",
              "    <tr>\n",
              "      <th>219802</th>\n",
              "      <td>2021-09-30</td>\n",
              "      <td>23:59</td>\n",
              "      <td>POS</td>\n",
              "      <td>AER</td>\n",
              "      <td>Regular</td>\n",
              "      <td>Dom</td>\n",
              "      <td>POS</td>\n",
              "      <td>AEROLINEAS ARGENTINAS SA</td>\n",
              "      <td>EMB-ERJ190100IGW</td>\n",
              "      <td>46</td>\n",
              "      <td>PROVISORIO</td>\n",
              "      <td>09/2021</td>\n",
              "      <td>2021</td>\n",
              "      <td>9</td>\n",
              "    </tr>\n",
              "  </tbody>\n",
              "</table>\n",
              "<p>62594 rows × 14 columns</p>\n",
              "</div>"
            ],
            "text/plain": [
              "            fecha hora_UTC origen destino  ... calidad_dato   fecha2  anio mes\n",
              "1      2021-01-01    00:24    GRA     EZE  ...   DEFINITIVO  01/2021  2021   1\n",
              "2      2021-01-01    00:26    ECA     EZE  ...   DEFINITIVO  01/2021  2021   1\n",
              "3      2021-01-01    00:29    SAL     EZE  ...   DEFINITIVO  01/2021  2021   1\n",
              "4      2021-01-01    00:37    TUC     EZE  ...   DEFINITIVO  01/2021  2021   1\n",
              "15     2021-01-01    07:09    EZE     ECA  ...   DEFINITIVO  01/2021  2021   1\n",
              "...           ...      ...    ...     ...  ...          ...      ...   ...  ..\n",
              "219798 2021-09-30    23:56    USU     AER  ...   PROVISORIO  09/2021  2021   9\n",
              "219799 2021-09-30    23:57    BAR     AER  ...   PROVISORIO  09/2021  2021   9\n",
              "219800 2021-09-30    23:57    AER     BAR  ...   PROVISORIO  09/2021  2021   9\n",
              "219801 2021-09-30    23:59    AER     CRV  ...   PROVISORIO  09/2021  2021   9\n",
              "219802 2021-09-30    23:59    POS     AER  ...   PROVISORIO  09/2021  2021   9\n",
              "\n",
              "[62594 rows x 14 columns]"
            ]
          },
          "metadata": {},
          "execution_count": 217
        }
      ]
    },
    {
      "cell_type": "code",
      "metadata": {
        "id": "xU5F2cVL9N4N",
        "colab": {
          "base_uri": "https://localhost:8080/"
        },
        "outputId": "48df1646-6333-41c2-a2c3-3bad6d37f21a"
      },
      "source": [
        "print(\"Los registros de la clase Regular representan el \" + str(np.round(np.shape(clase_regular)[0]/np.shape(df)[0],2)) + \" de los registros totales\")"
      ],
      "execution_count": null,
      "outputs": [
        {
          "output_type": "stream",
          "name": "stdout",
          "text": [
            "Los registros de la clase Regular representan el 0.35 de los registros totales\n"
          ]
        }
      ]
    },
    {
      "cell_type": "markdown",
      "metadata": {
        "id": "DUtxld_84TqJ"
      },
      "source": [
        "# Visualización : Countplot"
      ]
    },
    {
      "cell_type": "code",
      "metadata": {
        "id": "rMIZZyRg4eBP",
        "colab": {
          "base_uri": "https://localhost:8080/",
          "height": 321
        },
        "outputId": "2bdf3d7e-f555-4674-954a-2eec6c425272"
      },
      "source": [
        "# con el comando \"countplot\" de Seaborn (importado como sns) generamos un gráfico de barras por la columna \"aeropuerto\",\n",
        "#para ver cantidad de vuelos por localidad\n",
        "sns.set_context(\"talk\", font_scale=.7)\n",
        "az = sns.countplot(x=\"origen\", data=clase_regular, order=clase_regular['origen'].value_counts(ascending=False).index)\n",
        "plt.xticks(rotation=90)\n",
        "plt.title(\"Viajes regulares por Aeropuerto\")\n",
        "plot_name = str(plot_path+'Viajes_regulares_por_Aeropuerto')\n",
        "plot_format = \".png\"\n",
        "plt.savefig(plot_name+plot_format)\n",
        "plt.show()"
      ],
      "execution_count": null,
      "outputs": [
        {
          "output_type": "display_data",
          "data": {
            "image/png": "[encoded data removed]",
            "text/plain": [
              "<Figure size 432x288 with 1 Axes>"
            ]
          },
          "metadata": {
            "needs_background": "light"
          }
        }
      ]
    },
    {
      "cell_type": "code",
      "metadata": {
        "id": "hy_7YbKCS-jj"
      },
      "source": [
        "#Realizamos un análisis de cantidad de pasajeros por Vuelo Regular por MES\n",
        "pasajeros_pormes = clase_regular.groupby([\"mes\"])[\"pasajeros\"].sum()"
      ],
      "execution_count": null,
      "outputs": []
    },
    {
      "cell_type": "code",
      "metadata": {
        "colab": {
          "base_uri": "https://localhost:8080/",
          "height": 310
        },
        "id": "wEIqfuiuTKd_",
        "outputId": "6262e2a6-8ed8-4617-863b-c430873c8a36"
      },
      "source": [
        "sns.set_context(\"talk\", font_scale=.9)\n",
        "pasajeros_pormes.plot.bar()\n",
        "plt.title('Cantidad de Pasajeros por Mes en Vuelos Regulares (2021)', size = 20)\n",
        "plt.xlabel(\"Mes\", size = 15)\n",
        "plt.ylabel(\"Cantidad de Pasajeros\", size = 15)\n",
        "plot_name = str(plot_path+'cant_vuelos_por_mes')\n",
        "plot_format = \".png\"\n",
        "plt.savefig(plot_name+plot_format,bbox_inches='tight')\n",
        "plt.show()"
      ],
      "execution_count": null,
      "outputs": [
        {
          "output_type": "display_data",
          "data": {
            "image/png": "[encoded data removed]",
            "text/plain": [
              "<Figure size 432x288 with 1 Axes>"
            ]
          },
          "metadata": {
            "needs_background": "light"
          }
        }
      ]
    },
    {
      "cell_type": "code",
      "metadata": {
        "id": "FN4sAFPBTVnU"
      },
      "source": [
        "#podemos ver que, para los vuelos regulares, la temporada alta de pasajeros es en los meses de agosto y septiembre"
      ],
      "execution_count": null,
      "outputs": []
    },
    {
      "cell_type": "code",
      "metadata": {
        "id": "FEt7pKXS0LnC",
        "colab": {
          "base_uri": "https://localhost:8080/",
          "height": 259
        },
        "outputId": "28a5e167-7bee-4f41-9e49-a6b2a8aeca36"
      },
      "source": [
        "#vemos en detalle las 10 localidades con más vuelos\n",
        "top_vuelos = clase_regular['origen'].value_counts().index[0:10]\n",
        "\n",
        "plt.figure(figsize=(15,3))\n",
        "g = sns.countplot(x='origen', data=clase_regular, palette = \"muted\",order=top_vuelos)\n",
        "g.set_xticklabels(g.get_xticklabels(), rotation=90, ha=\"right\")\n",
        "plt.title('',size = 20)\n",
        "plt.xlabel(\"Localidad\")\n",
        "plt.ylabel(\"Count\")\n",
        "plot_name = str(plot_path+'cant_vuelos_regulares_por_aeropuerto')\n",
        "plot_format = \".png\"\n",
        "plt.savefig(plot_name+plot_format,bbox_inches='tight')\n",
        "plt.show()"
      ],
      "execution_count": null,
      "outputs": [
        {
          "output_type": "display_data",
          "data": {
            "image/png": "[encoded data removed]",
            "text/plain": [
              "<Figure size 1080x216 with 1 Axes>"
            ]
          },
          "metadata": {
            "needs_background": "light"
          }
        }
      ]
    },
    {
      "cell_type": "code",
      "metadata": {
        "id": "IygCuGFV0dMM",
        "colab": {
          "base_uri": "https://localhost:8080/",
          "height": 260
        },
        "outputId": "8e186ad2-436a-4f0f-bb0d-3e8292f724a3"
      },
      "source": [
        "top_vuelos = df['origen'].value_counts().index[0:10]\n",
        "#comparo las localidades más viajadas de los vuelos regulares vs de todos los vuelos\n",
        "\n",
        "plt.figure(figsize=(15,3))\n",
        "g = sns.countplot(x='origen',data=df, palette = \"muted\",order=top_vuelos)\n",
        "g.set_xticklabels(g.get_xticklabels(), rotation=90, ha=\"right\")\n",
        "plt.title('',size = 20)\n",
        "plt.xlabel(\"Localidad\")\n",
        "plt.ylabel(\"Count\")\n",
        "plot_name = str(plot_path+'cant_vuelos_por_aeropuerto')\n",
        "plot_format = \".png\"\n",
        "plt.savefig(plot_name+plot_format,bbox_inches='tight')\n",
        "plt.show()\n",
        "\n",
        "#podemos ver que, mientras que las 3 localidades que más vuelos regulares se realizan son AER (Aeroparque), EZE(Ezeiza) y BAR(Bariloche), \n",
        "#para el dataset en el que se toman en cuenta todos los tipos de vuelo, las 3 localidades más frecuentadas son MOR(Moreno), FDO(San Fernando) y AER(Aeroparque)\n",
        "#podemos deducir que hay muchos vuelos escuela o de otro tipo a Moreno y San Fernando"
      ],
      "execution_count": null,
      "outputs": [
        {
          "output_type": "display_data",
          "data": {
            "image/png": "[encoded data removed]",
            "text/plain": [
              "<Figure size 1080x216 with 1 Axes>"
            ]
          },
          "metadata": {
            "needs_background": "light"
          }
        }
      ]
    },
    {
      "cell_type": "code",
      "metadata": {
        "colab": {
          "base_uri": "https://localhost:8080/",
          "height": 486
        },
        "id": "gRgwVKJ7Inwa",
        "outputId": "5f312cda-59df-4dc7-8ca2-3302d5d67840"
      },
      "source": [
        "aeropuertoPivot_regular = clase_regular.groupby(['mes','origen']).agg({'pasajeros':['sum'],'fecha':['count']})\n",
        "aeropuertoPivot_regular"
      ],
      "execution_count": null,
      "outputs": [
        {
          "output_type": "execute_result",
          "data": {
            "text/html": [
              "<div>\n",
              "<style scoped>\n",
              "    .dataframe tbody tr th:only-of-type {\n",
              "        vertical-align: middle;\n",
              "    }\n",
              "\n",
              "    .dataframe tbody tr th {\n",
              "        vertical-align: top;\n",
              "    }\n",
              "\n",
              "    .dataframe thead tr th {\n",
              "        text-align: left;\n",
              "    }\n",
              "\n",
              "    .dataframe thead tr:last-of-type th {\n",
              "        text-align: right;\n",
              "    }\n",
              "</style>\n",
              "<table border=\"1\" class=\"dataframe\">\n",
              "  <thead>\n",
              "    <tr>\n",
              "      <th></th>\n",
              "      <th></th>\n",
              "      <th>pasajeros</th>\n",
              "      <th>fecha</th>\n",
              "    </tr>\n",
              "    <tr>\n",
              "      <th></th>\n",
              "      <th></th>\n",
              "      <th>sum</th>\n",
              "      <th>count</th>\n",
              "    </tr>\n",
              "    <tr>\n",
              "      <th>mes</th>\n",
              "      <th>origen</th>\n",
              "      <th></th>\n",
              "      <th></th>\n",
              "    </tr>\n",
              "  </thead>\n",
              "  <tbody>\n",
              "    <tr>\n",
              "      <th rowspan=\"5\" valign=\"top\">1</th>\n",
              "      <th>BAR</th>\n",
              "      <td>43964</td>\n",
              "      <td>665</td>\n",
              "    </tr>\n",
              "    <tr>\n",
              "      <th>BCA</th>\n",
              "      <td>1987</td>\n",
              "      <td>47</td>\n",
              "    </tr>\n",
              "    <tr>\n",
              "      <th>CAT</th>\n",
              "      <td>707</td>\n",
              "      <td>25</td>\n",
              "    </tr>\n",
              "    <tr>\n",
              "      <th>CBA</th>\n",
              "      <td>21963</td>\n",
              "      <td>406</td>\n",
              "    </tr>\n",
              "    <tr>\n",
              "      <th>CHP</th>\n",
              "      <td>2703</td>\n",
              "      <td>37</td>\n",
              "    </tr>\n",
              "    <tr>\n",
              "      <th>...</th>\n",
              "      <th>...</th>\n",
              "      <td>...</td>\n",
              "      <td>...</td>\n",
              "    </tr>\n",
              "    <tr>\n",
              "      <th rowspan=\"5\" valign=\"top\">9</th>\n",
              "      <th>TRH</th>\n",
              "      <td>309</td>\n",
              "      <td>7</td>\n",
              "    </tr>\n",
              "    <tr>\n",
              "      <th>TUC</th>\n",
              "      <td>15239</td>\n",
              "      <td>217</td>\n",
              "    </tr>\n",
              "    <tr>\n",
              "      <th>UIS</th>\n",
              "      <td>1231</td>\n",
              "      <td>33</td>\n",
              "    </tr>\n",
              "    <tr>\n",
              "      <th>USU</th>\n",
              "      <td>31561</td>\n",
              "      <td>391</td>\n",
              "    </tr>\n",
              "    <tr>\n",
              "      <th>VIE</th>\n",
              "      <td>587</td>\n",
              "      <td>24</td>\n",
              "    </tr>\n",
              "  </tbody>\n",
              "</table>\n",
              "<p>346 rows × 2 columns</p>\n",
              "</div>"
            ],
            "text/plain": [
              "           pasajeros fecha\n",
              "                 sum count\n",
              "mes origen                \n",
              "1   BAR        43964   665\n",
              "    BCA         1987    47\n",
              "    CAT          707    25\n",
              "    CBA        21963   406\n",
              "    CHP         2703    37\n",
              "...              ...   ...\n",
              "9   TRH          309     7\n",
              "    TUC        15239   217\n",
              "    UIS         1231    33\n",
              "    USU        31561   391\n",
              "    VIE          587    24\n",
              "\n",
              "[346 rows x 2 columns]"
            ]
          },
          "metadata": {},
          "execution_count": 225
        }
      ]
    },
    {
      "cell_type": "code",
      "metadata": {
        "id": "EYOcazrLrDai"
      },
      "source": [
        "#Contamos la cantidad de pasajeros por aeropuerto, para la clase Regular\n",
        "#aeropuertoPivot_regular = clase_regular[clase_regular.origen.isin(['AER', 'EZE', 'BAR', 'CBA', 'DOZ'])]\n",
        "#aeropuertoPivot_regular_2 = aeropuertoPivot_regular.groupby(['mes','origen']).agg({'pasajeros':['sum'],'fecha':['count']})\n",
        "#aeropuertoPivot_regular_2"
      ],
      "execution_count": null,
      "outputs": []
    },
    {
      "cell_type": "code",
      "metadata": {
        "colab": {
          "base_uri": "https://localhost:8080/",
          "height": 404
        },
        "id": "t8ANlaePFNNs",
        "outputId": "a187b149-9228-4a6f-8e38-ea8ec216c359"
      },
      "source": [
        "plt.figure(figsize=(8,6))\n",
        "#sns.scatterplot(aeropuertoPivot_regular_2.sum,aeropuertoPivot_regular_2.count,palette='muted')\n",
        "#plt.show()\n",
        "plt.scatter(aeropuertoPivot_regular.fecha,aeropuertoPivot_regular.pasajeros, alpha=0.5)\n",
        "plt.xlabel(\"Cant Vuelos\")\n",
        "plt.ylabel(\"Cant de Pasajeros\")\n",
        "plot_name = str(plot_path+'cant_vuelos-cant_pasajeros')\n",
        "plot_format = \".png\"\n",
        "plt.savefig(plot_name+plot_format,bbox_inches='tight')\n",
        "plt.show()"
      ],
      "execution_count": null,
      "outputs": [
        {
          "output_type": "display_data",
          "data": {
            "image/png": "[encoded data removed]",
            "text/plain": [
              "<Figure size 576x432 with 1 Axes>"
            ]
          },
          "metadata": {
            "needs_background": "light"
          }
        }
      ]
    },
    {
      "cell_type": "code",
      "metadata": {
        "colab": {
          "base_uri": "https://localhost:8080/"
        },
        "id": "f9V0E4BdxF_t",
        "outputId": "98c9d0ff-f9d9-4538-a70e-52443a7795d6"
      },
      "source": [
        "clase_escuela = df.loc[df['clase_vuelo'] == 'Vuelo Escuela']\n",
        "np.shape(clase_escuela)"
      ],
      "execution_count": null,
      "outputs": [
        {
          "output_type": "execute_result",
          "data": {
            "text/plain": [
              "(46287, 14)"
            ]
          },
          "metadata": {},
          "execution_count": 228
        }
      ]
    },
    {
      "cell_type": "code",
      "metadata": {
        "colab": {
          "base_uri": "https://localhost:8080/",
          "height": 260
        },
        "id": "mGR2HNjIxH8G",
        "outputId": "9b8bd8a9-43a4-45f6-c0d6-373c441ea085"
      },
      "source": [
        "top_vuelos = clase_escuela['origen'].value_counts().index[0:10]\n",
        "\n",
        "plt.figure(figsize=(15,3))\n",
        "g = sns.countplot(x='origen', data=clase_escuela, palette = \"muted\",order=top_vuelos)\n",
        "g.set_xticklabels(g.get_xticklabels(), rotation=90, ha=\"right\")\n",
        "plt.title('',size = 20)\n",
        "plt.xlabel(\"Localidad\")\n",
        "plt.ylabel(\"Count\")\n",
        "plot_name = str(plot_path+'Viajes_escuela_por_Aeropuerto')\n",
        "plot_format = \".png\"\n",
        "plt.savefig(plot_name+plot_format,bbox_inches='tight')\n",
        "plt.show()"
      ],
      "execution_count": null,
      "outputs": [
        {
          "output_type": "display_data",
          "data": {
            "image/png": "[encoded data removed]",
            "text/plain": [
              "<Figure size 1080x216 with 1 Axes>"
            ]
          },
          "metadata": {
            "needs_background": "light"
          }
        }
      ]
    },
    {
      "cell_type": "code",
      "metadata": {
        "colab": {
          "base_uri": "https://localhost:8080/"
        },
        "id": "bm7uc342xIYl",
        "outputId": "129d04ec-d94b-48ff-9bce-cb94d3306316"
      },
      "source": [
        "clase_privado = df.loc[df['clase_vuelo'] == 'Vuelo Privado con Matrícula Nacional']\n",
        "np.shape(clase_privado)"
      ],
      "execution_count": null,
      "outputs": [
        {
          "output_type": "execute_result",
          "data": {
            "text/plain": [
              "(43870, 14)"
            ]
          },
          "metadata": {},
          "execution_count": 230
        }
      ]
    },
    {
      "cell_type": "code",
      "metadata": {
        "colab": {
          "base_uri": "https://localhost:8080/",
          "height": 260
        },
        "id": "ohdfodOsxLMN",
        "outputId": "774169c6-8b56-4423-8187-c215a13bf30b"
      },
      "source": [
        "top_vuelos = clase_privado['origen'].value_counts().index[0:10]\n",
        "\n",
        "plt.figure(figsize=(15,3))\n",
        "g = sns.countplot(x='origen', data=clase_privado, palette = \"muted\",order=top_vuelos)\n",
        "g.set_xticklabels(g.get_xticklabels(), rotation=90, ha=\"right\")\n",
        "plt.title('',size = 20)\n",
        "plt.xlabel(\"Localidad\")\n",
        "plt.ylabel(\"Count\")\n",
        "plot_name = str(plot_path+'cant_vuelos_privados_por_aeropuerto')\n",
        "plot_format = \".png\"\n",
        "plt.savefig(plot_name+plot_format,bbox_inches='tight')\n",
        "plt.show()"
      ],
      "execution_count": null,
      "outputs": [
        {
          "output_type": "display_data",
          "data": {
            "image/png": "[encoded data removed]",
            "text/plain": [
              "<Figure size 1080x216 with 1 Axes>"
            ]
          },
          "metadata": {
            "needs_background": "light"
          }
        }
      ]
    },
    {
      "cell_type": "markdown",
      "metadata": {
        "id": "cYW-SpN56meI"
      },
      "source": [
        "# Visualizacion: Boxplot con Seaborn para vuelos Regulares"
      ]
    },
    {
      "cell_type": "code",
      "metadata": {
        "id": "B9qPtI9X47-I"
      },
      "source": [
        "# como AER es, por lejos, la localidad con mayor cantidad de vuelos (tanto despegue como aterrizaje),\n",
        "# filtramos con \".loc\" el dataframe \"clase_regular\" por el valor \"AER\" de la columna \"aeropuerto\",\n",
        "#creando este nuevo df\n",
        "\n",
        "aeropuerto_AER = clase_regular.loc[clase_regular.aeropuerto== 'AER']"
      ],
      "execution_count": null,
      "outputs": []
    },
    {
      "cell_type": "code",
      "metadata": {
        "id": "UyXbDpwW5PBf",
        "colab": {
          "base_uri": "https://localhost:8080/"
        },
        "outputId": "bf4f8459-3e7b-4ec6-ae8b-bbf49cb4e5e5"
      },
      "source": [
        "(clase_regular.aeropuerto == 'AER').sum()"
      ],
      "execution_count": null,
      "outputs": [
        {
          "output_type": "execute_result",
          "data": {
            "text/plain": [
              "18816"
            ]
          },
          "metadata": {},
          "execution_count": 233
        }
      ]
    },
    {
      "cell_type": "code",
      "metadata": {
        "id": "itkdoOCn5lBF",
        "colab": {
          "base_uri": "https://localhost:8080/",
          "height": 206
        },
        "outputId": "c0432e92-5ce6-432a-ef62-f5d744609498"
      },
      "source": [
        "aeropuerto_AER.head()"
      ],
      "execution_count": null,
      "outputs": [
        {
          "output_type": "execute_result",
          "data": {
            "text/html": [
              "<div>\n",
              "<style scoped>\n",
              "    .dataframe tbody tr th:only-of-type {\n",
              "        vertical-align: middle;\n",
              "    }\n",
              "\n",
              "    .dataframe tbody tr th {\n",
              "        vertical-align: top;\n",
              "    }\n",
              "\n",
              "    .dataframe thead th {\n",
              "        text-align: right;\n",
              "    }\n",
              "</style>\n",
              "<table border=\"1\" class=\"dataframe\">\n",
              "  <thead>\n",
              "    <tr style=\"text-align: right;\">\n",
              "      <th></th>\n",
              "      <th>fecha</th>\n",
              "      <th>hora_UTC</th>\n",
              "      <th>origen</th>\n",
              "      <th>destino</th>\n",
              "      <th>clase_vuelo</th>\n",
              "      <th>clasificacion_vuelo</th>\n",
              "      <th>aeropuerto</th>\n",
              "      <th>aerolinea_nombre</th>\n",
              "      <th>aeronave</th>\n",
              "      <th>pasajeros</th>\n",
              "      <th>calidad_dato</th>\n",
              "      <th>fecha2</th>\n",
              "      <th>anio</th>\n",
              "      <th>mes</th>\n",
              "    </tr>\n",
              "  </thead>\n",
              "  <tbody>\n",
              "    <tr>\n",
              "      <th>59737</th>\n",
              "      <td>2021-03-15</td>\n",
              "      <td>22:11</td>\n",
              "      <td>CBA</td>\n",
              "      <td>AER</td>\n",
              "      <td>Regular</td>\n",
              "      <td>Dom</td>\n",
              "      <td>AER</td>\n",
              "      <td>AEROLINEAS ARGENTINAS SA</td>\n",
              "      <td>EMB-ERJ190100IGW</td>\n",
              "      <td>44</td>\n",
              "      <td>DEFINITIVO</td>\n",
              "      <td>03/2021</td>\n",
              "      <td>2021</td>\n",
              "      <td>3</td>\n",
              "    </tr>\n",
              "    <tr>\n",
              "      <th>59827</th>\n",
              "      <td>2021-03-16</td>\n",
              "      <td>02:16</td>\n",
              "      <td>BAR</td>\n",
              "      <td>AER</td>\n",
              "      <td>Regular</td>\n",
              "      <td>Dom</td>\n",
              "      <td>AER</td>\n",
              "      <td>JETSMART AIRLINES S.A.</td>\n",
              "      <td>AIB-A320-232</td>\n",
              "      <td>73</td>\n",
              "      <td>DEFINITIVO</td>\n",
              "      <td>03/2021</td>\n",
              "      <td>2021</td>\n",
              "      <td>3</td>\n",
              "    </tr>\n",
              "    <tr>\n",
              "      <th>59829</th>\n",
              "      <td>2021-03-16</td>\n",
              "      <td>02:29</td>\n",
              "      <td>SAL</td>\n",
              "      <td>AER</td>\n",
              "      <td>Regular</td>\n",
              "      <td>Dom</td>\n",
              "      <td>AER</td>\n",
              "      <td>JETSMART AIRLINES S.A.</td>\n",
              "      <td>AIB-A320-232</td>\n",
              "      <td>64</td>\n",
              "      <td>DEFINITIVO</td>\n",
              "      <td>03/2021</td>\n",
              "      <td>2021</td>\n",
              "      <td>3</td>\n",
              "    </tr>\n",
              "    <tr>\n",
              "      <th>59843</th>\n",
              "      <td>2021-03-16</td>\n",
              "      <td>03:43</td>\n",
              "      <td>NEU</td>\n",
              "      <td>AER</td>\n",
              "      <td>Regular</td>\n",
              "      <td>Dom</td>\n",
              "      <td>AER</td>\n",
              "      <td>JETSMART AIRLINES S.A.</td>\n",
              "      <td>AIB-A320-232</td>\n",
              "      <td>58</td>\n",
              "      <td>DEFINITIVO</td>\n",
              "      <td>03/2021</td>\n",
              "      <td>2021</td>\n",
              "      <td>3</td>\n",
              "    </tr>\n",
              "    <tr>\n",
              "      <th>59872</th>\n",
              "      <td>2021-03-16</td>\n",
              "      <td>08:42</td>\n",
              "      <td>AER</td>\n",
              "      <td>USU</td>\n",
              "      <td>Regular</td>\n",
              "      <td>Dom</td>\n",
              "      <td>AER</td>\n",
              "      <td>JETSMART AIRLINES S.A.</td>\n",
              "      <td>AIB-A320-232</td>\n",
              "      <td>69</td>\n",
              "      <td>DEFINITIVO</td>\n",
              "      <td>03/2021</td>\n",
              "      <td>2021</td>\n",
              "      <td>3</td>\n",
              "    </tr>\n",
              "  </tbody>\n",
              "</table>\n",
              "</div>"
            ],
            "text/plain": [
              "           fecha hora_UTC origen destino  ... calidad_dato   fecha2  anio mes\n",
              "59737 2021-03-15    22:11    CBA     AER  ...   DEFINITIVO  03/2021  2021   3\n",
              "59827 2021-03-16    02:16    BAR     AER  ...   DEFINITIVO  03/2021  2021   3\n",
              "59829 2021-03-16    02:29    SAL     AER  ...   DEFINITIVO  03/2021  2021   3\n",
              "59843 2021-03-16    03:43    NEU     AER  ...   DEFINITIVO  03/2021  2021   3\n",
              "59872 2021-03-16    08:42    AER     USU  ...   DEFINITIVO  03/2021  2021   3\n",
              "\n",
              "[5 rows x 14 columns]"
            ]
          },
          "metadata": {},
          "execution_count": 234
        }
      ]
    },
    {
      "cell_type": "code",
      "metadata": {
        "id": "EwmhRIy35oJd",
        "colab": {
          "base_uri": "https://localhost:8080/"
        },
        "outputId": "23dd74fe-0f04-4584-eaed-59d305a9e134"
      },
      "source": [
        "#calculamos la cantidad de vuelos y la media de pasajeros por día, para los vuelos de AEROPARQUE\n",
        "grouped_df = aeropuerto_AER.groupby('fecha').agg({'pasajeros':['mean'],'fecha':['count']})\n",
        "grouped_df\n",
        "flights_bydate= df.pivot_table(columns=['fecha'], aggfunc='size')\n",
        "print(flights_bydate)"
      ],
      "execution_count": null,
      "outputs": [
        {
          "output_type": "stream",
          "name": "stdout",
          "text": [
            "fecha\n",
            "2021-01-01    228\n",
            "2021-01-02    499\n",
            "2021-01-03    567\n",
            "2021-01-04    903\n",
            "2021-01-05    737\n",
            "             ... \n",
            "2021-12-05    470\n",
            "2021-12-06    542\n",
            "2021-12-07    539\n",
            "2021-12-08    870\n",
            "2021-12-09    633\n",
            "Length: 273, dtype: int64\n"
          ]
        }
      ]
    },
    {
      "cell_type": "code",
      "metadata": {
        "id": "d2HcBNza_4sT",
        "colab": {
          "base_uri": "https://localhost:8080/"
        },
        "outputId": "877ccd17-03cd-4bd7-9915-cc05a14e1d20"
      },
      "source": [
        "np.shape(grouped_df)"
      ],
      "execution_count": null,
      "outputs": [
        {
          "output_type": "execute_result",
          "data": {
            "text/plain": [
              "(200, 2)"
            ]
          },
          "metadata": {},
          "execution_count": 236
        }
      ]
    },
    {
      "cell_type": "code",
      "metadata": {
        "id": "MrvwIQqvC5eR",
        "colab": {
          "base_uri": "https://localhost:8080/"
        },
        "outputId": "3b97ac87-4fef-4b41-a4e4-3ef32b1a5b09"
      },
      "source": [
        "np.shape(aeropuerto_AER)"
      ],
      "execution_count": null,
      "outputs": [
        {
          "output_type": "execute_result",
          "data": {
            "text/plain": [
              "(18816, 14)"
            ]
          },
          "metadata": {},
          "execution_count": 237
        }
      ]
    },
    {
      "cell_type": "code",
      "metadata": {
        "id": "nc14jL4JDkzg",
        "colab": {
          "base_uri": "https://localhost:8080/"
        },
        "outputId": "798d59af-e528-46e2-8e6b-fbe0c68a3456"
      },
      "source": [
        "aeropuerto_AER.drop(aeropuerto_AER.index[aeropuerto_AER['pasajeros'] == 0], inplace=True)\n",
        "np.shape(aeropuerto_AER)"
      ],
      "execution_count": null,
      "outputs": [
        {
          "output_type": "execute_result",
          "data": {
            "text/plain": [
              "(18562, 14)"
            ]
          },
          "metadata": {},
          "execution_count": 238
        }
      ]
    },
    {
      "cell_type": "code",
      "metadata": {
        "id": "AvOO8OMnwyoU",
        "colab": {
          "base_uri": "https://localhost:8080/"
        },
        "outputId": "288ace54-0f0f-45b2-cf7a-5c214196c8a9"
      },
      "source": [
        "aeropuerto_AER['pasajeros'].describe()"
      ],
      "execution_count": null,
      "outputs": [
        {
          "output_type": "execute_result",
          "data": {
            "text/plain": [
              "count    18562.000000\n",
              "mean        59.125525\n",
              "std         21.886119\n",
              "min          1.000000\n",
              "25%         42.000000\n",
              "50%         59.000000\n",
              "75%         80.000000\n",
              "max        100.000000\n",
              "Name: pasajeros, dtype: float64"
            ]
          },
          "metadata": {},
          "execution_count": 239
        }
      ]
    },
    {
      "cell_type": "code",
      "metadata": {
        "id": "bK63w4QlqViX",
        "colab": {
          "base_uri": "https://localhost:8080/",
          "height": 314
        },
        "outputId": "45c10bc7-da7a-4259-edc5-e0a2324b691e"
      },
      "source": [
        "# distplot para la columna \"pasajeros\" nos generará un histograma + la distribución generada de los datos a partir de \n",
        "# sus frecuencias poblacionales.\n",
        "sns.distplot(aeropuerto_AER['pasajeros'])\n",
        "plt.title('Distribución de cantidad de pasajeros por vuelo de/a Aeroparque')\n",
        "plt.xlabel('Cantidad de Pasajeros')\n",
        "plot_name = str(plot_path+'distribución_pasajeros_por_vuelo_aeroparque')\n",
        "plot_format = \".png\"\n",
        "plt.savefig(plot_name+plot_format,bbox_inches='tight')\n",
        "plt.show()"
      ],
      "execution_count": null,
      "outputs": [
        {
          "output_type": "display_data",
          "data": {
            "image/png": "[encoded data removed]",
            "text/plain": [
              "<Figure size 432x288 with 1 Axes>"
            ]
          },
          "metadata": {
            "needs_background": "light"
          }
        }
      ]
    },
    {
      "cell_type": "code",
      "metadata": {
        "id": "bpo5pbIni_3c",
        "colab": {
          "base_uri": "https://localhost:8080/",
          "height": 313
        },
        "outputId": "e00fa18e-dc5f-4a50-bd74-5df9c29c172c"
      },
      "source": [
        "# boxplot realizado con Matplotlib\n",
        "plt.boxplot(aeropuerto_AER['pasajeros'])\n",
        "plt.title('Pasajeros que viajan de/a Aeroparque 2021')\n",
        "plt.ylabel('Cant. de pasajeros')\n",
        "plt.xlabel(\"Vuelos de/a Aeroparque en 2021\")\n",
        "plot_name = str(plot_path+'boxplot_pasajeros_aeroparque')\n",
        "plot_format = \".png\"\n",
        "plt.savefig(plot_name+plot_format,bbox_inches='tight')\n",
        "plt.show()"
      ],
      "execution_count": null,
      "outputs": [
        {
          "output_type": "display_data",
          "data": {
            "image/png": "[encoded data removed]",
            "text/plain": [
              "<Figure size 432x288 with 1 Axes>"
            ]
          },
          "metadata": {
            "needs_background": "light"
          }
        }
      ]
    },
    {
      "cell_type": "code",
      "metadata": {
        "id": "uQKqPoJYtSsz"
      },
      "source": [
        "# probamos hacer el mismo boxplot con seaborn\n",
        "#sns.boxplot(x = \"pasajeros\", data =  aeropuerto_AER)\n",
        "#plt.show()"
      ],
      "execution_count": null,
      "outputs": []
    },
    {
      "cell_type": "markdown",
      "metadata": {
        "id": "Ztgc2m6iSVT7"
      },
      "source": [
        "# Datos Estadísticos"
      ]
    },
    {
      "cell_type": "markdown",
      "metadata": {
        "id": "dp2Mwhvy1Gld"
      },
      "source": [
        "# Filtrado de Outliers con Quantiles\n",
        "Calculamos el valor del percentil 90. Lo que esté sobre el percentil 80 lo llamaremos \"temporada alta\", y lo que esté por debajo, será \"temporada regular\". La \"temporada baja\" será debajo del percentil 10."
      ]
    },
    {
      "cell_type": "code",
      "metadata": {
        "id": "3Sfoqitj2Oyu",
        "colab": {
          "base_uri": "https://localhost:8080/"
        },
        "outputId": "57c43812-b901-4ad3-f511-7e08cff0e3f2"
      },
      "source": [
        "np.shape(aeropuerto_AER)"
      ],
      "execution_count": null,
      "outputs": [
        {
          "output_type": "execute_result",
          "data": {
            "text/plain": [
              "(18562, 14)"
            ]
          },
          "metadata": {},
          "execution_count": 243
        }
      ]
    },
    {
      "cell_type": "code",
      "metadata": {
        "id": "MB8adV15tLer"
      },
      "source": [
        "#calculamos el percentil 50 de la columna \"pasajeros\" para el dataframe \"aeropuerto_AER\", teniendo en cuenta la distribución anterior.\n",
        "percentil_50 = aeropuerto_AER['pasajeros'].quantile(0.50)"
      ],
      "execution_count": null,
      "outputs": []
    },
    {
      "cell_type": "code",
      "metadata": {
        "id": "U_o5Hg_D1p32",
        "colab": {
          "base_uri": "https://localhost:8080/"
        },
        "outputId": "367c35e5-138d-4af4-842e-97bf32110c05"
      },
      "source": [
        "# imprimimos en pantalla cuanto vale el percentil 0.50\n",
        "percentil_50"
      ],
      "execution_count": null,
      "outputs": [
        {
          "output_type": "execute_result",
          "data": {
            "text/plain": [
              "59.0"
            ]
          },
          "metadata": {},
          "execution_count": 245
        }
      ]
    },
    {
      "cell_type": "code",
      "metadata": {
        "id": "Hm-y5h8118C_",
        "colab": {
          "base_uri": "https://localhost:8080/"
        },
        "outputId": "d63729c8-6612-44f6-ad1b-8a26f7c61bd0"
      },
      "source": [
        "AER_temporada_alta = aeropuerto_AER.loc[aeropuerto_AER['pasajeros']>=percentil_50]\n",
        "AER_temporada_alta.drop(AER_temporada_alta.index[AER_temporada_alta['pasajeros'] == 0], inplace=True)\n",
        "np.shape(AER_temporada_alta)"
      ],
      "execution_count": null,
      "outputs": [
        {
          "output_type": "execute_result",
          "data": {
            "text/plain": [
              "(9283, 14)"
            ]
          },
          "metadata": {},
          "execution_count": 246
        }
      ]
    },
    {
      "cell_type": "code",
      "metadata": {
        "id": "mlphhpDlEc8x",
        "colab": {
          "base_uri": "https://localhost:8080/"
        },
        "outputId": "780428fa-4da5-43f3-b15c-031030d98ae2"
      },
      "source": [
        "AER_temporada_baja = aeropuerto_AER.loc[aeropuerto_AER['pasajeros'] <= percentil_50]\n",
        "AER_temporada_baja.drop(AER_temporada_baja.index[AER_temporada_baja['pasajeros'] == 0], inplace=True)\n",
        "np.shape(AER_temporada_baja)"
      ],
      "execution_count": null,
      "outputs": [
        {
          "output_type": "execute_result",
          "data": {
            "text/plain": [
              "(9473, 14)"
            ]
          },
          "metadata": {},
          "execution_count": 247
        }
      ]
    },
    {
      "cell_type": "code",
      "metadata": {
        "id": "0gRflYPx7SNa",
        "colab": {
          "base_uri": "https://localhost:8080/"
        },
        "outputId": "84aa1d0a-3e81-4525-83b5-0f55d2ba8f3b"
      },
      "source": [
        "# observamos que dimensiones tienen ahora los dataframes de temporada alta y baja\n",
        "np.shape(AER_temporada_alta)"
      ],
      "execution_count": null,
      "outputs": [
        {
          "output_type": "execute_result",
          "data": {
            "text/plain": [
              "(9283, 14)"
            ]
          },
          "metadata": {},
          "execution_count": 248
        }
      ]
    },
    {
      "cell_type": "code",
      "metadata": {
        "id": "W5LoKtqY2Hy-",
        "colab": {
          "base_uri": "https://localhost:8080/"
        },
        "outputId": "e1ffc879-11ee-4d6c-b220-8add6e164f61"
      },
      "source": [
        "np.shape(AER_temporada_baja)"
      ],
      "execution_count": null,
      "outputs": [
        {
          "output_type": "execute_result",
          "data": {
            "text/plain": [
              "(9473, 14)"
            ]
          },
          "metadata": {},
          "execution_count": 249
        }
      ]
    },
    {
      "cell_type": "code",
      "metadata": {
        "id": "glHalpw77d4n",
        "colab": {
          "base_uri": "https://localhost:8080/",
          "height": 314
        },
        "outputId": "4bf2cab5-b23c-4873-a89a-e0c3dfbc1f42"
      },
      "source": [
        "# hacemos un distplot de la columna pasajeros del dataframe \"AER_temporada_alta\"\n",
        "sns.distplot(AER_temporada_alta['pasajeros'], norm_hist = False)\n",
        "plt.title('Distribución de cantidad de pasajeros en temporada alta de Aeroparque')\n",
        "plt.xlabel('Cantidad de pasajeros')\n",
        "plot_name = str(plot_path+'distribución_aeroparque_temp_alta_v2')\n",
        "plot_format = \".png\"\n",
        "plt.savefig(plot_name+plot_format,bbox_inches='tight')\n",
        "plt.show()"
      ],
      "execution_count": null,
      "outputs": [
        {
          "output_type": "display_data",
          "data": {
            "image/png": "[encoded data removed]",
            "text/plain": [
              "<Figure size 432x288 with 1 Axes>"
            ]
          },
          "metadata": {
            "needs_background": "light"
          }
        }
      ]
    },
    {
      "cell_type": "code",
      "metadata": {
        "id": "4pfXcmQt9eOu",
        "colab": {
          "base_uri": "https://localhost:8080/",
          "height": 314
        },
        "outputId": "ecd4b1e3-873f-4041-e1b7-5dc5076a2dea"
      },
      "source": [
        "# hacemos un distplot de la columna pasajeros del dataframe \"AER_temporada_baja\"\n",
        "sns.distplot(AER_temporada_baja['pasajeros'], norm_hist = False)\n",
        "plt.title('Distribución de cantidad de pasajeros en temporada baja de Aeroparque')\n",
        "plt.xlabel('Cantidad de pasajeros')\n",
        "plot_name = str(plot_path+'distribución_aeroparque_temp_baja_v2')\n",
        "plot_format = \".png\"\n",
        "plt.savefig(plot_name+plot_format,bbox_inches='tight')\n",
        "plt.show()"
      ],
      "execution_count": null,
      "outputs": [
        {
          "output_type": "display_data",
          "data": {
            "image/png": "[encoded data removed]",
            "text/plain": [
              "<Figure size 432x288 with 1 Axes>"
            ]
          },
          "metadata": {
            "needs_background": "light"
          }
        }
      ]
    },
    {
      "cell_type": "code",
      "metadata": {
        "id": "9JI_9DZp71SC",
        "colab": {
          "base_uri": "https://localhost:8080/"
        },
        "outputId": "d0c7ae7d-7023-4201-ce41-b835ed5548b3"
      },
      "source": [
        "AER_temporada_alta['pasajeros'].describe()"
      ],
      "execution_count": null,
      "outputs": [
        {
          "output_type": "execute_result",
          "data": {
            "text/plain": [
              "count    9283.000000\n",
              "mean       78.297318\n",
              "std         9.983802\n",
              "min        59.000000\n",
              "25%        70.000000\n",
              "50%        80.000000\n",
              "75%        86.000000\n",
              "max       100.000000\n",
              "Name: pasajeros, dtype: float64"
            ]
          },
          "metadata": {},
          "execution_count": 252
        }
      ]
    },
    {
      "cell_type": "code",
      "metadata": {
        "id": "2h8nJRjk8lA9",
        "colab": {
          "base_uri": "https://localhost:8080/"
        },
        "outputId": "3cdc4fbc-f50d-4e65-a2bf-9a35f5c787a5"
      },
      "source": [
        "AER_temporada_baja['pasajeros'].describe()"
      ],
      "execution_count": null,
      "outputs": [
        {
          "output_type": "execute_result",
          "data": {
            "text/plain": [
              "count    9473.000000\n",
              "mean       40.335691\n",
              "std        11.297817\n",
              "min         1.000000\n",
              "25%        34.000000\n",
              "50%        43.000000\n",
              "75%        48.000000\n",
              "max        59.000000\n",
              "Name: pasajeros, dtype: float64"
            ]
          },
          "metadata": {},
          "execution_count": 253
        }
      ]
    },
    {
      "cell_type": "code",
      "metadata": {
        "id": "OlzQku1h8qrP",
        "colab": {
          "base_uri": "https://localhost:8080/",
          "height": 313
        },
        "outputId": "a0a8c7de-548b-4c9b-fd88-7573efe0e3af"
      },
      "source": [
        "#comparación de boxplots\n",
        "# con matplotlib hacemos un boxplot de los 2 grupos de datos. Ver que ingresamos 2 dataframes filtrados por la columna TOTAL\n",
        "plt.boxplot([aeropuerto_AER['pasajeros'],AER_temporada_alta['pasajeros'], AER_temporada_baja['pasajeros']])\n",
        "plt.title('comparacion de boxplots entre temporada alta, baja y pre filtrado')\n",
        "plt.xlabel(['pre-filtro', 'temp alta', 'temp baja'])\n",
        "plt.ylabel('cantidad de pasajeros')\n",
        "plot_name = str(plot_path+'boxplot_temporadas_aeroparque_v2')\n",
        "plot_format = \".png\"\n",
        "plt.savefig(plot_name+plot_format,bbox_inches='tight')\n",
        "plt.show()"
      ],
      "execution_count": null,
      "outputs": [
        {
          "output_type": "display_data",
          "data": {
            "image/png": "[encoded data removed]",
            "text/plain": [
              "<Figure size 432x288 with 1 Axes>"
            ]
          },
          "metadata": {
            "needs_background": "light"
          }
        }
      ]
    },
    {
      "cell_type": "code",
      "metadata": {
        "id": "w3RJ7qza9DF9",
        "colab": {
          "base_uri": "https://localhost:8080/",
          "height": 314
        },
        "outputId": "920dc09e-856f-4e4e-856b-03c40569befc"
      },
      "source": [
        "# hacemos dos displots en el mismo grafico. Uno para hora pico y otro para hora no pico.\n",
        "sns.distplot((AER_temporada_alta['pasajeros']))\n",
        "#sns.distplot((AER_temporada_regular['pasajeros']))\n",
        "sns.distplot((AER_temporada_baja['pasajeros']))\n",
        "plt.title('Distribución de cant pasajeros en las ambas temporadas en AER')\n",
        "plt.xlabel('Cantidad de pasajeros')\n",
        "plot_name = str(plot_path+'distribución_temporadas_aeroparque_v2')\n",
        "plot_format = \".png\"\n",
        "plt.savefig(plot_name+plot_format,bbox_inches='tight')\n",
        "plt.show()"
      ],
      "execution_count": null,
      "outputs": [
        {
          "output_type": "display_data",
          "data": {
            "image/png": "[encoded data removed]",
            "text/plain": [
              "<Figure size 432x288 with 1 Axes>"
            ]
          },
          "metadata": {
            "needs_background": "light"
          }
        }
      ]
    },
    {
      "cell_type": "code",
      "metadata": {
        "id": "nYAZaCNS5Fb7",
        "colab": {
          "base_uri": "https://localhost:8080/",
          "height": 1000
        },
        "outputId": "e45ce95d-1f22-414d-a2bc-0218d6a200cc"
      },
      "source": [
        "# Mediana, Limite inferior y superior de los 2 'aeropuerto's con mayor frecuencia de vuelos y el 10mo. (Para vuelos Regulares)\n",
        "\n",
        "clase_regular_pivot= clase_regular[clase_regular['aeropuerto']=='AER']\n",
        "plt.figure()\n",
        "A = plt.boxplot(clase_regular_pivot['pasajeros'])\n",
        "plt.title('AER')\n",
        "medians = [median.get_ydata() for median in A[\"medians\"]]\n",
        "#whiskers\n",
        "whiskers = [whiskers.get_ydata() for whiskers in A[\"whiskers\"]]\n",
        "#print(f'Valores outliers:\\r\\n{outliers[0]}\\r\\n')\n",
        "df2delete = pd.DataFrame({'Mediana': medians[0][0],\n",
        "                            'Lim. Inferior': whiskers[0][0],\n",
        "                            'Lim. Superior': whiskers[1][1]},index=['AER'])\n",
        "display(df2delete)\n",
        "clase_regular_pivot= clase_regular[clase_regular['aeropuerto']=='EZE']\n",
        "plt.figure()\n",
        "A = plt.boxplot(clase_regular_pivot['pasajeros'])\n",
        "plt.title('EZE')\n",
        "medians = [median.get_ydata() for median in A[\"medians\"]]\n",
        "#whiskers\n",
        "whiskers = [whiskers.get_ydata() for whiskers in A[\"whiskers\"]]\n",
        "df2delete = pd.DataFrame({'Mediana': medians[0][0],\n",
        "                            'Lim. Inferior': whiskers[0][0],\n",
        "                            'Lim. Superior': whiskers[1][1]},index=['EZE'])\n",
        "display(df2delete)\n",
        "\n",
        "clase_regular_pivot= clase_regular[clase_regular['aeropuerto']=='TUC']\n",
        "plt.figure()\n",
        "A = plt.boxplot(clase_regular_pivot['pasajeros'])\n",
        "plt.title('TUC')\n",
        "medians = [median.get_ydata() for median in A[\"medians\"]]\n",
        "#whiskers\n",
        "whiskers = [whiskers.get_ydata() for whiskers in A[\"whiskers\"]]\n",
        "df2delete = pd.DataFrame({'Mediana': medians[0][0],\n",
        "                            'Lim. Inferior': whiskers[0][0],\n",
        "                            'Lim. Superior': whiskers[1][1]},index=['TUC'])\n",
        "display(df2delete)\n",
        "\n",
        "#print(f'Valores outliers:\\r\\n{outliers[0]}\\r\\n')"
      ],
      "execution_count": null,
      "outputs": [
        {
          "output_type": "display_data",
          "data": {
            "text/html": [
              "<div>\n",
              "<style scoped>\n",
              "    .dataframe tbody tr th:only-of-type {\n",
              "        vertical-align: middle;\n",
              "    }\n",
              "\n",
              "    .dataframe tbody tr th {\n",
              "        vertical-align: top;\n",
              "    }\n",
              "\n",
              "    .dataframe thead th {\n",
              "        text-align: right;\n",
              "    }\n",
              "</style>\n",
              "<table border=\"1\" class=\"dataframe\">\n",
              "  <thead>\n",
              "    <tr style=\"text-align: right;\">\n",
              "      <th></th>\n",
              "      <th>Mediana</th>\n",
              "      <th>Lim. Inferior</th>\n",
              "      <th>Lim. Superior</th>\n",
              "    </tr>\n",
              "  </thead>\n",
              "  <tbody>\n",
              "    <tr>\n",
              "      <th>AER</th>\n",
              "      <td>58.0</td>\n",
              "      <td>42.0</td>\n",
              "      <td>100.0</td>\n",
              "    </tr>\n",
              "  </tbody>\n",
              "</table>\n",
              "</div>"
            ],
            "text/plain": [
              "     Mediana  Lim. Inferior  Lim. Superior\n",
              "AER     58.0           42.0          100.0"
            ]
          },
          "metadata": {}
        },
        {
          "output_type": "display_data",
          "data": {
            "text/html": [
              "<div>\n",
              "<style scoped>\n",
              "    .dataframe tbody tr th:only-of-type {\n",
              "        vertical-align: middle;\n",
              "    }\n",
              "\n",
              "    .dataframe tbody tr th {\n",
              "        vertical-align: top;\n",
              "    }\n",
              "\n",
              "    .dataframe thead th {\n",
              "        text-align: right;\n",
              "    }\n",
              "</style>\n",
              "<table border=\"1\" class=\"dataframe\">\n",
              "  <thead>\n",
              "    <tr style=\"text-align: right;\">\n",
              "      <th></th>\n",
              "      <th>Mediana</th>\n",
              "      <th>Lim. Inferior</th>\n",
              "      <th>Lim. Superior</th>\n",
              "    </tr>\n",
              "  </thead>\n",
              "  <tbody>\n",
              "    <tr>\n",
              "      <th>EZE</th>\n",
              "      <td>58.0</td>\n",
              "      <td>41.0</td>\n",
              "      <td>131.0</td>\n",
              "    </tr>\n",
              "  </tbody>\n",
              "</table>\n",
              "</div>"
            ],
            "text/plain": [
              "     Mediana  Lim. Inferior  Lim. Superior\n",
              "EZE     58.0           41.0          131.0"
            ]
          },
          "metadata": {}
        },
        {
          "output_type": "display_data",
          "data": {
            "text/html": [
              "<div>\n",
              "<style scoped>\n",
              "    .dataframe tbody tr th:only-of-type {\n",
              "        vertical-align: middle;\n",
              "    }\n",
              "\n",
              "    .dataframe tbody tr th {\n",
              "        vertical-align: top;\n",
              "    }\n",
              "\n",
              "    .dataframe thead th {\n",
              "        text-align: right;\n",
              "    }\n",
              "</style>\n",
              "<table border=\"1\" class=\"dataframe\">\n",
              "  <thead>\n",
              "    <tr style=\"text-align: right;\">\n",
              "      <th></th>\n",
              "      <th>Mediana</th>\n",
              "      <th>Lim. Inferior</th>\n",
              "      <th>Lim. Superior</th>\n",
              "    </tr>\n",
              "  </thead>\n",
              "  <tbody>\n",
              "    <tr>\n",
              "      <th>TUC</th>\n",
              "      <td>58.0</td>\n",
              "      <td>45.0</td>\n",
              "      <td>97.0</td>\n",
              "    </tr>\n",
              "  </tbody>\n",
              "</table>\n",
              "</div>"
            ],
            "text/plain": [
              "     Mediana  Lim. Inferior  Lim. Superior\n",
              "TUC     58.0           45.0           97.0"
            ]
          },
          "metadata": {}
        },
        {
          "output_type": "display_data",
          "data": {
            "image/png": "[encoded data removed]",
            "text/plain": [
              "<Figure size 432x288 with 1 Axes>"
            ]
          },
          "metadata": {
            "needs_background": "light"
          }
        },
        {
          "output_type": "display_data",
          "data": {
            "image/png": "[encoded data removed]",
            "text/plain": [
              "<Figure size 432x288 with 1 Axes>"
            ]
          },
          "metadata": {
            "needs_background": "light"
          }
        },
        {
          "output_type": "display_data",
          "data": {
            "image/png": "[encoded data removed]",
            "text/plain": [
              "<Figure size 432x288 with 1 Axes>"
            ]
          },
          "metadata": {
            "needs_background": "light"
          }
        }
      ]
    },
    {
      "cell_type": "markdown",
      "metadata": {
        "id": "gvIKkjyj30ss"
      },
      "source": [
        "# Correlación Lineal"
      ]
    },
    {
      "cell_type": "code",
      "metadata": {
        "id": "wONmMj_LSWnW"
      },
      "source": [
        "#analizamos la correlación de los 5 aeropuertos más frecuentados del tipo Regular, \n",
        "#según la cantidad de pasajeros por aeropuerto por mes"
      ],
      "execution_count": null,
      "outputs": []
    },
    {
      "cell_type": "code",
      "metadata": {
        "id": "_d8OPstXKjSl",
        "colab": {
          "base_uri": "https://localhost:8080/",
          "height": 206
        },
        "outputId": "50c5cfa5-69a7-4850-cbe1-47f9f6a13a20"
      },
      "source": [
        "clase_regular_top=clase_regular[clase_regular.origen.isin(['AER', 'EZE', 'BAR', 'CBA', 'DOZ'])]\n",
        "clase_regular_top.head()"
      ],
      "execution_count": null,
      "outputs": [
        {
          "output_type": "execute_result",
          "data": {
            "text/html": [
              "<div>\n",
              "<style scoped>\n",
              "    .dataframe tbody tr th:only-of-type {\n",
              "        vertical-align: middle;\n",
              "    }\n",
              "\n",
              "    .dataframe tbody tr th {\n",
              "        vertical-align: top;\n",
              "    }\n",
              "\n",
              "    .dataframe thead th {\n",
              "        text-align: right;\n",
              "    }\n",
              "</style>\n",
              "<table border=\"1\" class=\"dataframe\">\n",
              "  <thead>\n",
              "    <tr style=\"text-align: right;\">\n",
              "      <th></th>\n",
              "      <th>fecha</th>\n",
              "      <th>hora_UTC</th>\n",
              "      <th>origen</th>\n",
              "      <th>destino</th>\n",
              "      <th>clase_vuelo</th>\n",
              "      <th>clasificacion_vuelo</th>\n",
              "      <th>aeropuerto</th>\n",
              "      <th>aerolinea_nombre</th>\n",
              "      <th>aeronave</th>\n",
              "      <th>pasajeros</th>\n",
              "      <th>calidad_dato</th>\n",
              "      <th>fecha2</th>\n",
              "      <th>anio</th>\n",
              "      <th>mes</th>\n",
              "    </tr>\n",
              "  </thead>\n",
              "  <tbody>\n",
              "    <tr>\n",
              "      <th>15</th>\n",
              "      <td>2021-01-01</td>\n",
              "      <td>07:09</td>\n",
              "      <td>EZE</td>\n",
              "      <td>ECA</td>\n",
              "      <td>Regular</td>\n",
              "      <td>Dom</td>\n",
              "      <td>EZE</td>\n",
              "      <td>AEROLINEAS ARGENTINAS SA</td>\n",
              "      <td>BO-B737-800</td>\n",
              "      <td>35</td>\n",
              "      <td>DEFINITIVO</td>\n",
              "      <td>01/2021</td>\n",
              "      <td>2021</td>\n",
              "      <td>1</td>\n",
              "    </tr>\n",
              "    <tr>\n",
              "      <th>16</th>\n",
              "      <td>2021-01-01</td>\n",
              "      <td>08:10</td>\n",
              "      <td>EZE</td>\n",
              "      <td>JUJ</td>\n",
              "      <td>Regular</td>\n",
              "      <td>Dom</td>\n",
              "      <td>EZE</td>\n",
              "      <td>AEROLINEAS ARGENTINAS SA</td>\n",
              "      <td>EMB-ERJ190100IGW</td>\n",
              "      <td>46</td>\n",
              "      <td>DEFINITIVO</td>\n",
              "      <td>01/2021</td>\n",
              "      <td>2021</td>\n",
              "      <td>1</td>\n",
              "    </tr>\n",
              "    <tr>\n",
              "      <th>17</th>\n",
              "      <td>2021-01-01</td>\n",
              "      <td>08:14</td>\n",
              "      <td>EZE</td>\n",
              "      <td>BAR</td>\n",
              "      <td>Regular</td>\n",
              "      <td>Dom</td>\n",
              "      <td>EZE</td>\n",
              "      <td>AEROLINEAS ARGENTINAS SA</td>\n",
              "      <td>BO-737-800</td>\n",
              "      <td>81</td>\n",
              "      <td>DEFINITIVO</td>\n",
              "      <td>01/2021</td>\n",
              "      <td>2021</td>\n",
              "      <td>1</td>\n",
              "    </tr>\n",
              "    <tr>\n",
              "      <th>19</th>\n",
              "      <td>2021-01-01</td>\n",
              "      <td>08:35</td>\n",
              "      <td>EZE</td>\n",
              "      <td>USU</td>\n",
              "      <td>Regular</td>\n",
              "      <td>Dom</td>\n",
              "      <td>EZE</td>\n",
              "      <td>AEROLINEAS ARGENTINAS SA</td>\n",
              "      <td>BO-B737-8MB</td>\n",
              "      <td>74</td>\n",
              "      <td>DEFINITIVO</td>\n",
              "      <td>01/2021</td>\n",
              "      <td>2021</td>\n",
              "      <td>1</td>\n",
              "    </tr>\n",
              "    <tr>\n",
              "      <th>22</th>\n",
              "      <td>2021-01-01</td>\n",
              "      <td>09:04</td>\n",
              "      <td>EZE</td>\n",
              "      <td>NEU</td>\n",
              "      <td>Regular</td>\n",
              "      <td>Dom</td>\n",
              "      <td>EZE</td>\n",
              "      <td>AEROLINEAS ARGENTINAS SA</td>\n",
              "      <td>BO-B737-800</td>\n",
              "      <td>67</td>\n",
              "      <td>DEFINITIVO</td>\n",
              "      <td>01/2021</td>\n",
              "      <td>2021</td>\n",
              "      <td>1</td>\n",
              "    </tr>\n",
              "  </tbody>\n",
              "</table>\n",
              "</div>"
            ],
            "text/plain": [
              "        fecha hora_UTC origen destino  ... calidad_dato   fecha2  anio mes\n",
              "15 2021-01-01    07:09    EZE     ECA  ...   DEFINITIVO  01/2021  2021   1\n",
              "16 2021-01-01    08:10    EZE     JUJ  ...   DEFINITIVO  01/2021  2021   1\n",
              "17 2021-01-01    08:14    EZE     BAR  ...   DEFINITIVO  01/2021  2021   1\n",
              "19 2021-01-01    08:35    EZE     USU  ...   DEFINITIVO  01/2021  2021   1\n",
              "22 2021-01-01    09:04    EZE     NEU  ...   DEFINITIVO  01/2021  2021   1\n",
              "\n",
              "[5 rows x 14 columns]"
            ]
          },
          "metadata": {},
          "execution_count": 258
        }
      ]
    },
    {
      "cell_type": "code",
      "metadata": {
        "id": "KitfR5fJdxD4",
        "colab": {
          "base_uri": "https://localhost:8080/",
          "height": 363
        },
        "outputId": "87476922-1a7a-4f90-83c9-3f613a93f114"
      },
      "source": [
        "clase_regular_top_c = pd.pivot_table(clase_regular_top,values = 'pasajeros', columns = 'origen', index = 'mes', aggfunc = np.sum)\n",
        "clase_regular_top_c.head(9)\n",
        "#los primeros dos meses del año, AER se encontraba cerrado por refacciones"
      ],
      "execution_count": null,
      "outputs": [
        {
          "output_type": "execute_result",
          "data": {
            "text/html": [
              "<div>\n",
              "<style scoped>\n",
              "    .dataframe tbody tr th:only-of-type {\n",
              "        vertical-align: middle;\n",
              "    }\n",
              "\n",
              "    .dataframe tbody tr th {\n",
              "        vertical-align: top;\n",
              "    }\n",
              "\n",
              "    .dataframe thead th {\n",
              "        text-align: right;\n",
              "    }\n",
              "</style>\n",
              "<table border=\"1\" class=\"dataframe\">\n",
              "  <thead>\n",
              "    <tr style=\"text-align: right;\">\n",
              "      <th>origen</th>\n",
              "      <th>AER</th>\n",
              "      <th>BAR</th>\n",
              "      <th>CBA</th>\n",
              "      <th>DOZ</th>\n",
              "      <th>EZE</th>\n",
              "    </tr>\n",
              "    <tr>\n",
              "      <th>mes</th>\n",
              "      <th></th>\n",
              "      <th></th>\n",
              "      <th></th>\n",
              "      <th></th>\n",
              "      <th></th>\n",
              "    </tr>\n",
              "  </thead>\n",
              "  <tbody>\n",
              "    <tr>\n",
              "      <th>1</th>\n",
              "      <td>NaN</td>\n",
              "      <td>43964.0</td>\n",
              "      <td>21963.0</td>\n",
              "      <td>20473.0</td>\n",
              "      <td>194215.0</td>\n",
              "    </tr>\n",
              "    <tr>\n",
              "      <th>2</th>\n",
              "      <td>NaN</td>\n",
              "      <td>45437.0</td>\n",
              "      <td>20331.0</td>\n",
              "      <td>19318.0</td>\n",
              "      <td>185271.0</td>\n",
              "    </tr>\n",
              "    <tr>\n",
              "      <th>3</th>\n",
              "      <td>71381.0</td>\n",
              "      <td>35586.0</td>\n",
              "      <td>22259.0</td>\n",
              "      <td>21842.0</td>\n",
              "      <td>137847.0</td>\n",
              "    </tr>\n",
              "    <tr>\n",
              "      <th>4</th>\n",
              "      <td>147064.0</td>\n",
              "      <td>31631.0</td>\n",
              "      <td>18970.0</td>\n",
              "      <td>19603.0</td>\n",
              "      <td>10536.0</td>\n",
              "    </tr>\n",
              "    <tr>\n",
              "      <th>5</th>\n",
              "      <td>79799.0</td>\n",
              "      <td>11605.0</td>\n",
              "      <td>13856.0</td>\n",
              "      <td>11234.0</td>\n",
              "      <td>6562.0</td>\n",
              "    </tr>\n",
              "    <tr>\n",
              "      <th>6</th>\n",
              "      <td>79878.0</td>\n",
              "      <td>12370.0</td>\n",
              "      <td>12907.0</td>\n",
              "      <td>9985.0</td>\n",
              "      <td>5189.0</td>\n",
              "    </tr>\n",
              "    <tr>\n",
              "      <th>7</th>\n",
              "      <td>188789.0</td>\n",
              "      <td>39677.0</td>\n",
              "      <td>23801.0</td>\n",
              "      <td>18209.0</td>\n",
              "      <td>15316.0</td>\n",
              "    </tr>\n",
              "    <tr>\n",
              "      <th>8</th>\n",
              "      <td>226095.0</td>\n",
              "      <td>56748.0</td>\n",
              "      <td>29123.0</td>\n",
              "      <td>25358.0</td>\n",
              "      <td>25765.0</td>\n",
              "    </tr>\n",
              "    <tr>\n",
              "      <th>9</th>\n",
              "      <td>272745.0</td>\n",
              "      <td>60267.0</td>\n",
              "      <td>30673.0</td>\n",
              "      <td>27441.0</td>\n",
              "      <td>14943.0</td>\n",
              "    </tr>\n",
              "  </tbody>\n",
              "</table>\n",
              "</div>"
            ],
            "text/plain": [
              "origen       AER      BAR      CBA      DOZ       EZE\n",
              "mes                                                  \n",
              "1            NaN  43964.0  21963.0  20473.0  194215.0\n",
              "2            NaN  45437.0  20331.0  19318.0  185271.0\n",
              "3        71381.0  35586.0  22259.0  21842.0  137847.0\n",
              "4       147064.0  31631.0  18970.0  19603.0   10536.0\n",
              "5        79799.0  11605.0  13856.0  11234.0    6562.0\n",
              "6        79878.0  12370.0  12907.0   9985.0    5189.0\n",
              "7       188789.0  39677.0  23801.0  18209.0   15316.0\n",
              "8       226095.0  56748.0  29123.0  25358.0   25765.0\n",
              "9       272745.0  60267.0  30673.0  27441.0   14943.0"
            ]
          },
          "metadata": {},
          "execution_count": 259
        }
      ]
    },
    {
      "cell_type": "code",
      "metadata": {
        "id": "Ak3pvUqKekgr",
        "colab": {
          "base_uri": "https://localhost:8080/",
          "height": 238
        },
        "outputId": "4a78e898-7078-43f2-b72a-9973d5cc5fc6"
      },
      "source": [
        "#Analizamos cuán cerca están estas variables a tener una relación lineal (Correlación Lineal de Pearson) entre ellas\n",
        "clase_regular_top_c_corr=clase_regular_top_c.corr()\n",
        "clase_regular_top_c_corr.head(9)"
      ],
      "execution_count": null,
      "outputs": [
        {
          "output_type": "execute_result",
          "data": {
            "text/html": [
              "<div>\n",
              "<style scoped>\n",
              "    .dataframe tbody tr th:only-of-type {\n",
              "        vertical-align: middle;\n",
              "    }\n",
              "\n",
              "    .dataframe tbody tr th {\n",
              "        vertical-align: top;\n",
              "    }\n",
              "\n",
              "    .dataframe thead th {\n",
              "        text-align: right;\n",
              "    }\n",
              "</style>\n",
              "<table border=\"1\" class=\"dataframe\">\n",
              "  <thead>\n",
              "    <tr style=\"text-align: right;\">\n",
              "      <th>origen</th>\n",
              "      <th>AER</th>\n",
              "      <th>BAR</th>\n",
              "      <th>CBA</th>\n",
              "      <th>DOZ</th>\n",
              "      <th>EZE</th>\n",
              "    </tr>\n",
              "    <tr>\n",
              "      <th>origen</th>\n",
              "      <th></th>\n",
              "      <th></th>\n",
              "      <th></th>\n",
              "      <th></th>\n",
              "      <th></th>\n",
              "    </tr>\n",
              "  </thead>\n",
              "  <tbody>\n",
              "    <tr>\n",
              "      <th>AER</th>\n",
              "      <td>1.000000</td>\n",
              "      <td>0.883714</td>\n",
              "      <td>0.868465</td>\n",
              "      <td>0.769224</td>\n",
              "      <td>-0.340701</td>\n",
              "    </tr>\n",
              "    <tr>\n",
              "      <th>BAR</th>\n",
              "      <td>0.883714</td>\n",
              "      <td>1.000000</td>\n",
              "      <td>0.951780</td>\n",
              "      <td>0.946538</td>\n",
              "      <td>0.268182</td>\n",
              "    </tr>\n",
              "    <tr>\n",
              "      <th>CBA</th>\n",
              "      <td>0.868465</td>\n",
              "      <td>0.951780</td>\n",
              "      <td>1.000000</td>\n",
              "      <td>0.948792</td>\n",
              "      <td>0.051177</td>\n",
              "    </tr>\n",
              "    <tr>\n",
              "      <th>DOZ</th>\n",
              "      <td>0.769224</td>\n",
              "      <td>0.946538</td>\n",
              "      <td>0.948792</td>\n",
              "      <td>1.000000</td>\n",
              "      <td>0.203398</td>\n",
              "    </tr>\n",
              "    <tr>\n",
              "      <th>EZE</th>\n",
              "      <td>-0.340701</td>\n",
              "      <td>0.268182</td>\n",
              "      <td>0.051177</td>\n",
              "      <td>0.203398</td>\n",
              "      <td>1.000000</td>\n",
              "    </tr>\n",
              "  </tbody>\n",
              "</table>\n",
              "</div>"
            ],
            "text/plain": [
              "origen       AER       BAR       CBA       DOZ       EZE\n",
              "origen                                                  \n",
              "AER     1.000000  0.883714  0.868465  0.769224 -0.340701\n",
              "BAR     0.883714  1.000000  0.951780  0.946538  0.268182\n",
              "CBA     0.868465  0.951780  1.000000  0.948792  0.051177\n",
              "DOZ     0.769224  0.946538  0.948792  1.000000  0.203398\n",
              "EZE    -0.340701  0.268182  0.051177  0.203398  1.000000"
            ]
          },
          "metadata": {},
          "execution_count": 260
        }
      ]
    },
    {
      "cell_type": "code",
      "metadata": {
        "id": "mxzrckbGfW9u",
        "colab": {
          "base_uri": "https://localhost:8080/",
          "height": 368
        },
        "outputId": "658dc68b-1fdf-41cb-c2cd-90527e3e403a"
      },
      "source": [
        "#Utilizamos el heatmap para visualizarlo\n",
        "plt.figure(figsize=(10,5))\n",
        "sns.heatmap(clase_regular_top_c_corr, annot=True, cmap=sns.diverging_palette(240, 10, as_cmap=True))\n",
        "plt.title(\"Matriz de correlacion acerca de los pasajeros entre los 5 aeropuertos con más vuelos\")\n",
        "plot_name = str(plot_path+'correlación_lineal_pasajeros_aeropuertos')\n",
        "plot_format = \".png\"\n",
        "plt.savefig(plot_name+plot_format,bbox_inches='tight')\n",
        "plt.show()"
      ],
      "execution_count": null,
      "outputs": [
        {
          "output_type": "display_data",
          "data": {
            "image/png": "[encoded data removed]",
            "text/plain": [
              "<Figure size 720x360 with 2 Axes>"
            ]
          },
          "metadata": {
            "needs_background": "light"
          }
        }
      ]
    },
    {
      "cell_type": "code",
      "metadata": {
        "id": "Cc2qFwbhQXSL"
      },
      "source": [
        "#La mayor correlación es entre DOZ y CBA, DE 0,95. \n",
        "#CBA y BAR también se relacionan altamente (0,95)\n",
        "#No existe correlación entre EZE y el resto de los aeropuertos debido a que en los primeros 2 meses y medio del año AER se encontraba cerrado y EZE tomó los vuelos Regulares/\n",
        "#Cuando AER volvió a tener vuelos a mediados de marzo, EZE comenzó a bajar considerablemente la cantidad de pasajeros para vuelos regulares."
      ],
      "execution_count": null,
      "outputs": []
    }
  ]
}